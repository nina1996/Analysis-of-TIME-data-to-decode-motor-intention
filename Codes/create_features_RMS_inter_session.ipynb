{
  "nbformat": 4,
  "nbformat_minor": 0,
  "metadata": {
    "colab": {
      "name": "create_features_RMS_inter_session.ipynb",
      "provenance": [],
      "collapsed_sections": []
    },
    "kernelspec": {
      "name": "python3",
      "display_name": "Python 3"
    },
    "accelerator": "GPU"
  },
  "cells": [
    {
      "cell_type": "markdown",
      "metadata": {
        "id": "gWaFVC5yJ36C"
      },
      "source": [
        "Here we create RMS signals following next steps:\n",
        "1. Preprocessing with LP filter with cut-off frequency of 3000 Hz\n",
        "2. Downsampling signals to 10 kHz\n",
        "3. Band-pass squared filtered signal with fl=2 Hz and fh=100 Hz\n",
        "4. Binnning the signal into 25 ms long windows and calculating squared root of mean value"
      ]
    },
    {
      "cell_type": "code",
      "metadata": {
        "id": "zwqwFMLBoIit",
        "outputId": "8df9cc73-9064-417a-e853-9e6932b4d4da",
        "colab": {
          "base_uri": "https://localhost:8080/",
          "height": 124
        }
      },
      "source": [
        "from google.colab import drive\n",
        "drive.mount('/content/gdrive')"
      ],
      "execution_count": null,
      "outputs": [
        {
          "output_type": "stream",
          "text": [
            "Go to this URL in a browser: https://accounts.google.com/o/oauth2/auth?client_id=947318989803-6bn6qk8qdgf4n4g3pfee6491hc0brc4i.apps.googleusercontent.com&redirect_uri=urn%3aietf%3awg%3aoauth%3a2.0%3aoob&response_type=code&scope=email%20https%3a%2f%2fwww.googleapis.com%2fauth%2fdocs.test%20https%3a%2f%2fwww.googleapis.com%2fauth%2fdrive%20https%3a%2f%2fwww.googleapis.com%2fauth%2fdrive.photos.readonly%20https%3a%2f%2fwww.googleapis.com%2fauth%2fpeopleapi.readonly\n",
            "\n",
            "Enter your authorization code:\n",
            "··········\n",
            "Mounted at /content/gdrive\n"
          ],
          "name": "stdout"
        }
      ]
    },
    {
      "cell_type": "markdown",
      "metadata": {
        "id": "ScIPc85QL3HQ"
      },
      "source": [
        "Three possible scenarios:\n",
        "* session: 1,2,3,4,5 or False - where false stands for inter-session approach\n",
        "* reduced: True = take first 200 ms of each repetition and each class; False = take entire 1 s of each\n",
        "* if session = False, we can cerate randomly, or non-randomly choosen sets"
      ]
    },
    {
      "cell_type": "code",
      "metadata": {
        "id": "wrR5enASoOgs"
      },
      "source": [
        "# FILL IN PATHS\n",
        "session=5\n",
        "reduced=True #true=200 ms, false=1s\n",
        "inter_session_randomly=True\n",
        "\n",
        "path=['','','']\n",
        "\n",
        "if inter_session_randomly:\n",
        "  if reduced:\n",
        "    path[0]='/content/gdrive/Shared drives/Nikolina/RMS data/1D features/Inter-session/RMS_train_rs_200ms.csv'\n",
        "    path[1]='/content/gdrive/Shared drives/Nikolina/RMS data/1D features/Inter-session/RMS_valid_rs_200ms.csv'\n",
        "    path[2]='/content/gdrive/Shared drives/Nikolina/RMS data/1D features/Inter-session/RMS_test_rs_200ms.csv'\n",
        "  else:\n",
        "    path[0]='/content/gdrive/Shared drives/Nikolina/RMS data/1D features/Inter-session/RMS_train_rs_1s.csv'\n",
        "    path[1]='/content/gdrive/Shared drives/Nikolina/RMS data/1D features/Inter-session/RMS_valid_rs_1s.csv'\n",
        "    path[2]='/content/gdrive/Shared drives/Nikolina/RMS data/1D features/Inter-session/RMS_test_rs_1s.csv'\n",
        "else:\n",
        "  if reduced:\n",
        "    path[0]='/content/gdrive/Shared drives/Nikolina/RMS data/1D features/Inter-session/RMS_train_200ms.csv'\n",
        "    path[1]='/content/gdrive/Shared drives/Nikolina/RMS data/1D features/Inter-session/RMS_valid_200ms.csv'\n",
        "    path[2]='/content/gdrive/Shared drives/Nikolina/RMS data/1D features/Inter-session/RMS_test_200ms.csv'\n",
        "  else:\n",
        "    path[0]='/content/gdrive/Shared drives/Nikolina/RMS data/1D features/Inter-session/RMS_train_1s.csv'\n",
        "    path[1]='/content/gdrive/Shared drives/Nikolina/RMS data/1D features/Inter-session/RMS_valid_1s.csv'\n",
        "    path[2]='/content/gdrive/Shared drives/Nikolina/RMS data/1D features/Inter-session/RMS_test_1s.csv'"
      ],
      "execution_count": null,
      "outputs": []
    },
    {
      "cell_type": "code",
      "metadata": {
        "id": "QrHccTDboQtp"
      },
      "source": [
        "import h5py\n",
        "import pandas as pd\n",
        "import numpy as np\n",
        "from skimage import io\n",
        "import scipy\n",
        "import scipy.signal as signal\n",
        "import matplotlib.pyplot as plt\n",
        "from tqdm import tqdm\n",
        "from sklearn.preprocessing import StandardScaler, MinMaxScaler\n",
        "from sklearn.model_selection import train_test_split"
      ],
      "execution_count": null,
      "outputs": []
    },
    {
      "cell_type": "code",
      "metadata": {
        "id": "u9vZl0T5oWrR"
      },
      "source": [
        "def read_data(session_numb):\n",
        "    \"\"\"Function loads mat files, depending on session number from 1 to 5. \n",
        "    Note that it paths to mat files should be updated!\n",
        "    Returns:\n",
        "    sig_out - signals with shape: number of samples x 56\n",
        "    targets_out - regression targets with shape: number of samples x 5 (for 5 fingers), \n",
        "    targets_out10 - the same as targets_out, but with fs=10 kHz, instead of 30 kHz. This\n",
        "    one are going to be used as images will be downsampled as well.\n",
        "\n",
        "    ------\n",
        "\n",
        "    NOTE: There is a difference between read_data in this, and other scripts, because for NN \n",
        "    approach we use cleaned signals from session 3 (as artifact peak was causing problems). So we just read \n",
        "    sig_cleaned and corresponding targets. \n",
        "    \"\"\"\n",
        "\n",
        "    day16name='/content/gdrive/Shared drives/Nikolina/19.5.2020./Data/Data10Khz/session1_10kHz.mat'\n",
        "    day17name='/content/gdrive/Shared drives/Nikolina/19.5.2020./Data/Data10Khz/session2_10kHz.mat'\n",
        "    day20name='/content/gdrive/Shared drives/Nikolina/19.5.2020./Data/Data10Khz/session3_10kHz.mat'\n",
        "    day23name1='/content/gdrive/Shared drives/Nikolina/19.5.2020./Data/Data10Khz/session4_10kHz.mat'\n",
        "    day23name2='/content/gdrive/Shared drives/Nikolina/19.5.2020./Data/Data10Khz/session5_10kHz.mat'\n",
        "\n",
        "    \n",
        "    c1=len(session_numb)\n",
        "    c2=session_numb[0]\n",
        "       \n",
        "    if (1 in session_numb):\n",
        "        fulldata     = h5py.File(day16name)\n",
        "        #trigger=fulldata[\"trigger\"][:]\n",
        "        sig=fulldata[\"sig\"][:]\n",
        "        #t=fulldata['time'][:]\n",
        "        targets=fulldata['targets'][:]\n",
        "        \n",
        "        targets10=fulldata['targets10'][:]\n",
        "        targets10c=fulldata['targets10c'][:]\n",
        "        if c1==1 or c2==1:\n",
        "            sig_out=sig\n",
        "            targets_out=targets\n",
        "            targets_out10=targets10\n",
        "            targets_out10c=targets10c\n",
        "        else:\n",
        "            sig_out=np.concatenate((sig_out,sig),axis=0)\n",
        "            targets_out=np.concatenate((targets_out,targets),axis=0)\n",
        "            targets_out10=np.concatenate((targets_out10,targets10),axis=0)\n",
        "            targets_out10c=np.concatenate((targets_out10c,targets10c),axis=0)\n",
        "\n",
        "\n",
        "    if (2 in session_numb):\n",
        "        fulldata     = h5py.File(day17name)\n",
        "        #trigger=fulldata[\"trigger\"][:]\n",
        "        sig=fulldata[\"sig\"][:]\n",
        "        #t=fulldata['time'][:]\n",
        "        targets=fulldata['targets'][:]\n",
        "\n",
        "        targets10=fulldata['targets10'][:]\n",
        "        targets10c=fulldata['targets10c'][:]\n",
        "        if c1==1 or c2==2:\n",
        "            sig_out=sig\n",
        "            targets_out=targets\n",
        "            targets_out10=targets10\n",
        "            targets_out10c=targets10c\n",
        "        else:\n",
        "            sig_out=np.concatenate((sig_out,sig),axis=0)\n",
        "            targets_out=np.concatenate((targets_out,targets),axis=0)\n",
        "            targets_out10=np.concatenate((targets_out10,targets10),axis=0)\n",
        "            targets_out10c=np.concatenate((targets_out10c,targets10c),axis=0)\n",
        "\n",
        "        \n",
        "    if (3 in session_numb):\n",
        "        fulldata     = h5py.File(day20name)\n",
        "        #trigger=fulldata[\"trigger\"][:]\n",
        "        sig=fulldata[\"sig_cleaned\"][:]#sifnals from session3 are additionaly cleaned!\n",
        "        #t=fulldata['time'][:]\n",
        "        targets=fulldata['targets_cleaned'][:]\n",
        "\n",
        "        targets10=fulldata['targets10_cleaned'][:]\n",
        "        targets10c=fulldata['targets10c_cleaned'][:]\n",
        "        if c1==1 or c2==3:\n",
        "            sig_out=sig\n",
        "            targets_out=targets\n",
        "            targets_out10=targets10\n",
        "            targets_out10c=targets10c\n",
        "        else:\n",
        "            sig_out=np.concatenate((sig_out,sig),axis=0)\n",
        "            targets_out=np.concatenate((targets_out,targets),axis=0)\n",
        "            targets_out10=np.concatenate((targets_out10,targets10),axis=0)\n",
        "            targets_out10c=np.concatenate((targets_out10c,targets10c),axis=0)\n",
        "            \n",
        "    if (4 in session_numb):\n",
        "        fulldata     = h5py.File(day23name1)\n",
        "        #trigger=fulldata[\"trigger\"][:]\n",
        "        sig=fulldata[\"sig\"][:]\n",
        "        #t=fulldata['time'][:]\n",
        "        targets=fulldata['targets'][:]\n",
        "\n",
        "        targets10=fulldata['targets10'][:]\n",
        "        targets10c=fulldata['targets10c'][:]\n",
        "        if c1==1 or c2==4:\n",
        "            sig_out=sig\n",
        "            targets_out=targets\n",
        "            targets_out10=targets10\n",
        "            targets_out10c=targets10c\n",
        "        else:\n",
        "            sig_out=np.concatenate((sig_out,sig),axis=0)\n",
        "            targets_out=np.concatenate((targets_out,targets),axis=0)\n",
        "            targets_out10=np.concatenate((targets_out10,targets10),axis=0)\n",
        "            targets_out10c=np.concatenate((targets_out10c,targets10c),axis=0)\n",
        "       \n",
        "        \n",
        "    if (5 in session_numb):\n",
        "        fulldata     = h5py.File(day23name2)\n",
        "        #trigger=fulldata[\"trigger\"][:]\n",
        "        sig=fulldata[\"sig\"][:]\n",
        "        #t=fulldata['time'][:]\n",
        "        targets=fulldata['targets'][:]\n",
        "\n",
        "        targets10=fulldata['targets10'][:]\n",
        "        targets10c=fulldata['targets10c'][:]\n",
        "        if c1==1 or c2==5:\n",
        "            sig_out=sig\n",
        "            targets_out=targets\n",
        "            targets_out10=targets10\n",
        "            targets_out10c=targets10c\n",
        "        else:\n",
        "            sig_out=np.concatenate((sig_out,sig),axis=0)\n",
        "            targets_out=np.concatenate((targets_out,targets),axis=0)\n",
        "            targets_out10=np.concatenate((targets_out10,targets10),axis=0)\n",
        "            targets_out10c=np.concatenate((targets_out10c,targets10c),axis=0)\n",
        "     \n",
        "    return sig_out, targets_out, targets_out10, targets_out10c\n",
        "\n",
        "\n",
        "def create_rms(data,targets,w,c): \n",
        "    \"\"\"Function creates windows of desired window length and 0 overlap from signals.\n",
        "    Then it computes square of mean for each window and creates corresponding target by taking \n",
        "    the last target fom the window.\n",
        "    Returns:\n",
        "    inputs - now each window is represented with one RMS list.\n",
        "    outputs - now each window is represented with one target list.\n",
        "    \"\"\" \n",
        "    fs=10000\n",
        "    w=int(w*fs) #window length \n",
        "    o=0\n",
        "\n",
        "    if c:\n",
        "      multiply=1\n",
        "    else: #if regression multiply targets by factor 10\n",
        "      multiply=10\n",
        "\n",
        "    inputs=[]\n",
        "    outputs=[]\n",
        "    input0=rmValue(data[0:56,0:w])\n",
        "    inputs.append(input0)\n",
        "    output0=multiply*targets[:,w]\n",
        "    outputs.append(output0)\n",
        "    i=w-o\n",
        "    last=np.shape(data)[1]-w-1\n",
        "    while i<last:\n",
        "\n",
        "        inputi=data[0:56,i:i+w]\n",
        "        rms=rmValue(inputi)\n",
        "        #inputi=Normalizer().fit_transform(inputi)\n",
        "        inputs.append(rms)\n",
        "        targeti=multiply*targets[:,i+w]\n",
        "        outputs.append(targeti)\n",
        "        i=i+w-o\n",
        "\n",
        "    inputs.append(rmValue(data[0:56,last:last+w]))\n",
        "    outputs.append(multiply*targets[:,last+w])\n",
        "    inputs=np.array(inputs)\n",
        "    outputs=np.array(outputs)\n",
        "    print('input: ',np.shape(inputs))\n",
        "    print('output: ',np.shape(outputs))\n",
        "    return inputs, outputs\n",
        "\n",
        "def rmValue(data): \n",
        "  \"\"\"Loop over 56 channels, \n",
        "  calculate mean and square it.\n",
        "  Returns 1 x 56 vector. \"\"\"\n",
        "  n=np.shape(data)[0]\n",
        "  RMS=np.zeros(n)\n",
        "  for i in range(0,n): \n",
        "    RMS[i] = np.sqrt(np.mean(data[i,:]**2)) \n",
        "\n",
        "  return RMS "
      ],
      "execution_count": null,
      "outputs": []
    },
    {
      "cell_type": "markdown",
      "metadata": {
        "id": "36i00AqcOJh4"
      },
      "source": [
        " # Read session (always one)."
      ]
    },
    {
      "cell_type": "code",
      "metadata": {
        "id": "v1M51XD5oYf6",
        "outputId": "7cd927a9-5a0a-4c76-d9a0-daf598dca4ef",
        "colab": {
          "base_uri": "https://localhost:8080/",
          "height": 193
        }
      },
      "source": [
        "(t_data, t_targets, downs_targets,downs_targetsc)=read_data([session])# training sessions\n",
        "print('data: ', np.shape(t_data))\n",
        "print('targets: ', np.shape(t_targets))\n",
        "print('targets10: ', np.shape(downs_targets))\n",
        "print('targets10c: ', np.shape(downs_targetsc))\n",
        "t_data=np.transpose(t_data)\n",
        "t_targets=np.transpose(t_targets)\n",
        "downs_targets=np.transpose(downs_targets)\n",
        "downs_targetsc=np.transpose(downs_targetsc)\n",
        "print('transposed data: ', np.shape(t_data))\n",
        "print('transposed targets: ', np.shape(t_targets))\n",
        "print('transposed targets10: ', np.shape(downs_targets))\n",
        "print('transposed targets10c: ', np.shape(downs_targetsc))"
      ],
      "execution_count": null,
      "outputs": [
        {
          "output_type": "stream",
          "text": [
            "/usr/local/lib/python3.6/dist-packages/ipykernel_launcher.py:111: H5pyDeprecationWarning: The default file mode will change to 'r' (read-only) in h5py 3.0. To suppress this warning, pass the mode you need to h5py.File(), or set the global default h5.get_config().default_file_mode, or set the environment variable H5PY_DEFAULT_READONLY=1. Available modes are: 'r', 'r+', 'w', 'w-'/'x', 'a'. See the docs for details.\n"
          ],
          "name": "stderr"
        },
        {
          "output_type": "stream",
          "text": [
            "data:  (6000000, 56)\n",
            "targets:  (6000000, 5)\n",
            "targets10:  (2000000, 5)\n",
            "targets10c:  (2000000, 9)\n",
            "transposed data:  (56, 6000000)\n",
            "transposed targets:  (5, 6000000)\n",
            "transposed targets10:  (5, 2000000)\n",
            "transposed targets10c:  (9, 2000000)\n"
          ],
          "name": "stdout"
        }
      ]
    },
    {
      "cell_type": "markdown",
      "metadata": {
        "id": "mn1emF5JOTw6"
      },
      "source": [
        "# Step 1 - filtering."
      ]
    },
    {
      "cell_type": "code",
      "metadata": {
        "id": "MjmTblyWoY_-",
        "outputId": "89834f1f-fcc9-438c-de79-c196bd3ea513",
        "colab": {
          "base_uri": "https://localhost:8080/",
          "height": 52
        }
      },
      "source": [
        "fs=30000\n",
        "high=3000/fs\n",
        "low=300/fs\n",
        "#b2, a2 = signal.butter(4, [low,high], btype='bandpass')\n",
        "b2, a2 = signal.butter(4, high, btype='lowpass')\n",
        "n=np.shape(t_data)[1]\n",
        "filtered=np.zeros((56,n))\n",
        "\n",
        "print(' [INFO] Filtering ..')\n",
        "for channel in tqdm(np.arange(0,56,1)): \n",
        "  filtered[channel,:] = signal.filtfilt(b2, a2,t_data[channel,:]).reshape(1,n)\n",
        "t_data=filtered\n",
        "\n",
        "#channel=51\n",
        "#plt.figure(figsize=(20,8))\n",
        "#plt.plot(t_data[channel,:])\n",
        "#plt.title('Filtered signal, channel'+str(channel))"
      ],
      "execution_count": null,
      "outputs": [
        {
          "output_type": "stream",
          "text": [
            "  2%|▏         | 1/56 [00:00<00:09,  5.70it/s]"
          ],
          "name": "stderr"
        },
        {
          "output_type": "stream",
          "text": [
            " [INFO] Filtering ..\n"
          ],
          "name": "stdout"
        },
        {
          "output_type": "stream",
          "text": [
            "100%|██████████| 56/56 [00:09<00:00,  6.06it/s]\n"
          ],
          "name": "stderr"
        }
      ]
    },
    {
      "cell_type": "markdown",
      "metadata": {
        "id": "BVkDNdDtOp6Y"
      },
      "source": [
        "# Step 2 - downsampling."
      ]
    },
    {
      "cell_type": "code",
      "metadata": {
        "id": "WrXaIJKaoeXS",
        "outputId": "0a663700-3c73-4043-a69a-0d8fd98390db",
        "colab": {
          "base_uri": "https://localhost:8080/",
          "height": 104
        }
      },
      "source": [
        "downs_data=np.zeros((56,int(np.shape(t_data)[1]/3)))\n",
        "for channel in range(0,56):\n",
        "  downs_data[channel,:]=scipy.signal.decimate(t_data[channel,:], 3)\n",
        "\n",
        "print('original=',np.shape(t_data))\n",
        "print('downsampled=',np.shape(downs_data))\n",
        "print('targets: ', np.shape(downs_targets))\n",
        "print('targetsc: ', np.shape(downs_targetsc))\n",
        "\n",
        "\n",
        "\"\"\"\n",
        "channel=51\n",
        "plt.figure(figsize=(20,8))\n",
        "plt.plot(downs_data[channel,:])\n",
        "plt.title('Filtered signal, channel'+str(channel))\n",
        "\"\"\""
      ],
      "execution_count": null,
      "outputs": [
        {
          "output_type": "stream",
          "text": [
            "original= (56, 6000000)\n",
            "downsampled= (56, 2000000)\n",
            "targets:  (5, 2000000)\n",
            "targetsc:  (9, 2000000)\n"
          ],
          "name": "stdout"
        },
        {
          "output_type": "execute_result",
          "data": {
            "text/plain": [
              "\"\\nchannel=51\\nplt.figure(figsize=(20,8))\\nplt.plot(downs_data[channel,:])\\nplt.title('Filtered signal, channel'+str(channel))\\n\""
            ]
          },
          "metadata": {
            "tags": []
          },
          "execution_count": 12
        }
      ]
    },
    {
      "cell_type": "markdown",
      "metadata": {
        "id": "SakSsJkAOsGh"
      },
      "source": [
        "# Steps 3 and 4 --> result is binned RMS with fs = 40 Hz"
      ]
    },
    {
      "cell_type": "code",
      "metadata": {
        "id": "uni9EGAAogXD",
        "outputId": "324482c2-881e-4cf3-f8c5-2b47de11230d",
        "colab": {
          "base_uri": "https://localhost:8080/",
          "height": 86
        }
      },
      "source": [
        "fs=10000\n",
        "high=100/fs\n",
        "low=2/fs\n",
        "#b2, a2 = signal.butter(2, high, btype='lowpass',analog=False)\n",
        "b2, a2 = signal.butter(2, [low,high] , btype='bandpass')\n",
        "n=np.shape(downs_data)[1]\n",
        "envelope=np.zeros((56,n))\n",
        "\n",
        "#filt = signal.butter(2, 100, 'lowpass', fs=10000, output='sos', analog=False)\n",
        "#filtered=signal.sosfilt(filt, downs_data[0,:]**2).reshape(1,n)\n",
        "\n",
        "print('Filtering ...')\n",
        "for channel in tqdm(np.arange(0,56,1)): \n",
        "  envelope[channel,:] = signal.filtfilt(b2, a2,downs_data[channel,:]**2).reshape(1,n)\n",
        "\n",
        "\n",
        "# 1000/250 = 40 Hz new sampling frequency\n",
        "w=0.025\n",
        "[inputs, outputs]=create_rms(envelope,downs_targetsc,w,1)#1-classification\n",
        "\n",
        "#plt.figure(figsize=(20,8))\n",
        "#plt.plot(inputs[:,0])\n",
        "\n",
        "#plt.figure(figsize=(20,8))\n",
        "#plt.plot(outputs[:,0])\n",
        "\n",
        "#plt.figure(figsize=(20,8))\n",
        "#plt.plot(inputs[0:2*40,19,0],linewidth=3)"
      ],
      "execution_count": null,
      "outputs": [
        {
          "output_type": "stream",
          "text": [
            "\r  0%|          | 0/56 [00:00<?, ?it/s]"
          ],
          "name": "stderr"
        },
        {
          "output_type": "stream",
          "text": [
            "Filtering ...\n"
          ],
          "name": "stdout"
        },
        {
          "output_type": "stream",
          "text": [
            "100%|██████████| 56/56 [00:02<00:00, 23.51it/s]\n"
          ],
          "name": "stderr"
        },
        {
          "output_type": "stream",
          "text": [
            "input:  (8000, 56)\n",
            "output:  (8000, 9)\n"
          ],
          "name": "stdout"
        }
      ]
    },
    {
      "cell_type": "markdown",
      "metadata": {
        "id": "Ye0mYt62TTZi"
      },
      "source": [
        "________________________________________________________________________________"
      ]
    },
    {
      "cell_type": "markdown",
      "metadata": {
        "id": "1WjMu0k7O_i4"
      },
      "source": [
        "Now create vectors that represent starting time point for each repetition, of each class and each session. (This is done manually) <br>\n",
        "For rest - we take subset of the repetitions such that classes are balanced."
      ]
    },
    {
      "cell_type": "code",
      "metadata": {
        "id": "PgNiCyxTpZFR",
        "outputId": "e0c44324-0e7c-4aee-e7cc-add9f5435287",
        "colab": {
          "base_uri": "https://localhost:8080/",
          "height": 54
        }
      },
      "source": [
        "#extract first 200 ms or 1 ms - starting point\n",
        "c=[]\n",
        "if session ==1:\n",
        "  rest=np.array([2,7,12,52,57,102,107,152,157,162])\n",
        "  c.append(rest)\n",
        "  c.append(np.arange(0,50,5))\n",
        "  c.append(np.arange(1,51,5))\n",
        "  c.append(np.arange(50,100,5))\n",
        "  c.append(np.arange(51,101,5))\n",
        "  c.append(np.arange(100,150,5))\n",
        "  c.append(np.arange(101,151,5))\n",
        "  c.append(np.arange(150,185,5))\n",
        "  c.append(np.arange(151,186,5))\n",
        "\n",
        "elif session==2:\n",
        "  rest=np.array([2,7,12,52,57,102,107,152,157,162])\n",
        "  c.append(rest)\n",
        "  c.append(np.arange(0,50,5))\n",
        "  c.append(np.arange(1,51,5))\n",
        "  c.append(np.arange(50,90,5))\n",
        "  c.append(np.arange(51,91,5))\n",
        "  c.append(np.arange(90,140,5))\n",
        "  c.append(np.arange(91,141,5))\n",
        "  c.append(np.arange(140,190,5))\n",
        "  c.append(np.arange(141,191,5))\n",
        "\n",
        "elif session==3:\n",
        "  rest=np.array([2,7,12,52,57,102,107,152,157,162])\n",
        "  c.append(rest)\n",
        "  c.append(np.arange(0,50,5))\n",
        "  c.append(np.arange(1,51,5))\n",
        "  c.append(np.arange(50,100,5))\n",
        "  c.append(np.arange(51,101,5))\n",
        "  c.append(np.arange(100,150,5))\n",
        "  c.append(np.arange(101,151,5))\n",
        "  c.append(np.arange(150,195,5))\n",
        "  c.append(np.arange(151,196,5))\n",
        "\n",
        "\n",
        "else:\n",
        "  rest=np.array([2,7,12,52,57,102,107,152,157,162])\n",
        "  c.append(rest)\n",
        "  c.append(np.arange(0,50,5))\n",
        "  c.append(np.arange(1,51,5))\n",
        "  c.append(np.arange(50,100,5))\n",
        "  c.append(np.arange(51,101,5))\n",
        "  c.append(np.arange(100,150,5))\n",
        "  c.append(np.arange(101,151,5))\n",
        "  c.append(np.arange(150,200,5))\n",
        "  c.append(np.arange(151,201,5))\n",
        "\n",
        "print(c)\n"
      ],
      "execution_count": null,
      "outputs": [
        {
          "output_type": "stream",
          "text": [
            "[array([  2,   7,  12,  52,  57, 102, 107, 152, 157, 162]), array([ 0,  5, 10, 15, 20, 25, 30, 35, 40, 45]), array([ 1,  6, 11, 16, 21, 26, 31, 36, 41, 46]), array([50, 55, 60, 65, 70, 75, 80, 85, 90, 95]), array([51, 56, 61, 66, 71, 76, 81, 86, 91, 96]), array([100, 105, 110, 115, 120, 125, 130, 135, 140, 145]), array([101, 106, 111, 116, 121, 126, 131, 136, 141, 146]), array([150, 155, 160, 165, 170, 175, 180, 185, 190, 195]), array([151, 156, 161, 166, 171, 176, 181, 186, 191, 196])]\n"
          ],
          "name": "stdout"
        }
      ]
    },
    {
      "cell_type": "markdown",
      "metadata": {
        "id": "rpNiVPrWPWoD"
      },
      "source": [
        "Now extract just 200 ms of the single repetition (reduced = True), or 1 s (reduced=False)."
      ]
    },
    {
      "cell_type": "code",
      "metadata": {
        "id": "DoELwvsp12yy",
        "outputId": "211db3dd-ed73-49b8-e4de-20db586e3d55",
        "colab": {
          "base_uri": "https://localhost:8080/",
          "height": 52
        }
      },
      "source": [
        "if reduced:\n",
        "  nb_of_s=8\n",
        "else:\n",
        "  nb_of_s=40\n",
        "\n",
        "s=0\n",
        "i=0\n",
        "for l in c:\n",
        "  f=0\n",
        "  for begin in l:\n",
        "    if i==0 and f==0:\n",
        "      features=inputs[int(begin*40):int(begin*40)+nb_of_s,:].T\n",
        "      labels=outputs[int(begin*40):int(begin*40)+nb_of_s,s:9].T\n",
        "    else:\n",
        "      features=np.concatenate((features,inputs[int(begin*40):int(begin*40)+nb_of_s,:].T),axis=1)\n",
        "      labels=np.concatenate((labels,outputs[int(begin*40):int(begin*40)+nb_of_s,s:9].T),axis=1)\n",
        "    f+=1\n",
        "    #print(outputs[int(begin*40)+2:int(begin*40)+10,s:9].T)\n",
        "  i+=1\n",
        "\n",
        "features=features.T\n",
        "labels=labels.T\n",
        "\n",
        "print(np.shape(features))\n",
        "print(np.shape(labels))"
      ],
      "execution_count": null,
      "outputs": [
        {
          "output_type": "stream",
          "text": [
            "(720, 56)\n",
            "(720, 9)\n"
          ],
          "name": "stdout"
        }
      ]
    },
    {
      "cell_type": "markdown",
      "metadata": {
        "id": "OFvlIypHT_CD"
      },
      "source": [
        "________________________________________________________________________________"
      ]
    },
    {
      "cell_type": "markdown",
      "metadata": {
        "id": "ykT_wWsWRewr"
      },
      "source": [
        "# INTER SESSION RANDOMLY CREATED SETS\n",
        "(inter_session_randomly = True)"
      ]
    },
    {
      "cell_type": "markdown",
      "metadata": {
        "id": "FMCTAGm1Pxmi"
      },
      "source": [
        "***Use this only for creating the inter-session randomly chosen sets!\n",
        "After loading first session uncomment first two lines, while for the rest uncomment the second two***"
      ]
    },
    {
      "cell_type": "code",
      "metadata": {
        "id": "XjRr0Dh7JEEp",
        "outputId": "b6d9e989-f63f-4888-e2c6-5f6e713d06bc",
        "colab": {
          "base_uri": "https://localhost:8080/",
          "height": 50
        }
      },
      "source": [
        "#X=features\n",
        "#y=labels\n",
        "\n",
        "#X=np.vstack((X,features))\n",
        "#y=np.vstack((y,labels))\n",
        "\n",
        "print(np.shape(X))\n",
        "print(np.shape(y))"
      ],
      "execution_count": null,
      "outputs": [
        {
          "output_type": "stream",
          "text": [
            "(3504, 56)\n",
            "(3504, 9)\n"
          ],
          "name": "stdout"
        }
      ]
    },
    {
      "cell_type": "markdown",
      "metadata": {
        "id": "6WxnnDrnRIv3"
      },
      "source": [
        "Now just assign created matrices to the fatures and labels so that we can proceed to the random split cell  ***(jump over next three cells and go directly to RANDOM SPLIT)***"
      ]
    },
    {
      "cell_type": "code",
      "metadata": {
        "id": "O6yMUB-LRJ6a"
      },
      "source": [
        "features=X\n",
        "labels=y #--> now split"
      ],
      "execution_count": null,
      "outputs": []
    },
    {
      "cell_type": "markdown",
      "metadata": {
        "id": "qC6L-RV-RwZS"
      },
      "source": [
        "# INTER SESSION WHERE TRAIN CONTAINS 3 SESSIONS, AND VALID AND TEST 1 SESSION EACH\n",
        "\n",
        "(inter_session_randomly = False)"
      ]
    },
    {
      "cell_type": "markdown",
      "metadata": {
        "id": "7giPwkGA0XnO"
      },
      "source": [
        "***Execute next 3 cells only for inter-session, but pay attention on the order and if loaded sessions are train, validation or test.<br>\n",
        "After loading first train session uncomment first two lines, while for the other two uncomment the second two lines***"
      ]
    },
    {
      "cell_type": "code",
      "metadata": {
        "id": "PBG_naUhz5vu",
        "outputId": "4c2372fd-924f-4ce7-db1a-02e227534da7",
        "colab": {
          "base_uri": "https://localhost:8080/",
          "height": 50
        }
      },
      "source": [
        "#X_train=features\n",
        "#y_train=labels\n",
        "#X_train=np.vstack((X_train,features))\n",
        "#y_train=np.vstack((y_train,labels))\n",
        "print(np.shape(X_train))\n",
        "print(np.shape(y_train))"
      ],
      "execution_count": null,
      "outputs": [
        {
          "output_type": "stream",
          "text": [
            "(10320, 56)\n",
            "(10320, 9)\n"
          ],
          "name": "stdout"
        }
      ]
    },
    {
      "cell_type": "markdown",
      "metadata": {
        "id": "I1BZiePnSSO_"
      },
      "source": [
        "***After loading validation session run this***"
      ]
    },
    {
      "cell_type": "code",
      "metadata": {
        "id": "53v0gp4o1lMv",
        "outputId": "4ac168ff-4bd9-495e-e934-77245012bb05",
        "colab": {
          "base_uri": "https://localhost:8080/",
          "height": 50
        }
      },
      "source": [
        "X_val=features\n",
        "y_val=labels\n",
        "print(np.shape(X_val))\n",
        "print(np.shape(y_val))"
      ],
      "execution_count": null,
      "outputs": [
        {
          "output_type": "stream",
          "text": [
            "(3600, 56)\n",
            "(3600, 9)\n"
          ],
          "name": "stdout"
        }
      ]
    },
    {
      "cell_type": "markdown",
      "metadata": {
        "id": "2SVXjCs0SZSY"
      },
      "source": [
        "***Then after train session this.***"
      ]
    },
    {
      "cell_type": "code",
      "metadata": {
        "id": "iR-HJ5O02CPl",
        "outputId": "84a16cea-5cef-42ff-b352-9caa65f7db96",
        "colab": {
          "base_uri": "https://localhost:8080/",
          "height": 50
        }
      },
      "source": [
        "X_test=features\n",
        "y_test=labels\n",
        "print(np.shape(X_test))\n",
        "print(np.shape(y_test))"
      ],
      "execution_count": null,
      "outputs": [
        {
          "output_type": "stream",
          "text": [
            "(3600, 56)\n",
            "(3600, 9)\n"
          ],
          "name": "stdout"
        }
      ]
    },
    {
      "cell_type": "markdown",
      "metadata": {
        "id": "uhI57BsxSfFQ"
      },
      "source": [
        "***Jump over RANDOM SPLIT cell and go directly to standardization***"
      ]
    },
    {
      "cell_type": "markdown",
      "metadata": {
        "id": "ME7ARF7GRoyD"
      },
      "source": [
        "# RANDOM SPLIT"
      ]
    },
    {
      "cell_type": "code",
      "metadata": {
        "id": "cO7xqJ_y_8of",
        "outputId": "bbefb229-549c-43cc-b4ee-50b1ffae1a62",
        "colab": {
          "base_uri": "https://localhost:8080/",
          "height": 82
        }
      },
      "source": [
        "#first split - train+validation versus test\n",
        "X, X_test, y, y_test = train_test_split(features, labels, test_size=0.2, random_state=42)\n",
        "print(np.shape(X))\n",
        "#second split - train versus validation\n",
        "X_train, X_val, y_train, y_val = train_test_split(X, y, test_size=0.25, random_state=42)\n",
        "print('train data: ', np.shape(X_train),np.shape(y_train))\n",
        "print('validation data: ',np.shape(X_val),np.shape(y_val))\n",
        "print('test data: ',np.shape(X_test),np.shape(y_test))"
      ],
      "execution_count": null,
      "outputs": [
        {
          "output_type": "stream",
          "text": [
            "(2803, 56)\n",
            "train data:  (2102, 56) (2102, 9)\n",
            "validation data:  (701, 56) (701, 9)\n",
            "test data:  (701, 56) (701, 9)\n"
          ],
          "name": "stdout"
        }
      ]
    },
    {
      "cell_type": "markdown",
      "metadata": {
        "id": "MTjmFxEwSpus"
      },
      "source": [
        "# STANDARDIZATION\n",
        "\n",
        "Extract mean and standard deviation from training set, and normalize data according to it."
      ]
    },
    {
      "cell_type": "code",
      "metadata": {
        "id": "jZNPPduc7fkz",
        "outputId": "7df9d688-4d69-4ce8-d5f3-9bb5a754a89a",
        "colab": {
          "base_uri": "https://localhost:8080/",
          "height": 98
        }
      },
      "source": [
        "m1=np.std(X_train,axis=0)\n",
        "m2=np.mean(X_train,axis=0)\n",
        "print(np.shape(m1))\n",
        "print(np.shape(m2))\n",
        "\n",
        "X_train=np.divide(X_train-m2,m1)#normalize train\n",
        "X_val=np.divide(X_val-m2,m1)#normalize validation\n",
        "X_test=np.divide(X_test-m2,m1)#normalize test\n",
        "\n",
        "print('train data: ', np.shape(X_train))\n",
        "print('validation data: ',np.shape(X_val))\n",
        "print('test data: ',np.shape(X_test))"
      ],
      "execution_count": null,
      "outputs": [
        {
          "output_type": "stream",
          "text": [
            "(56,)\n",
            "(56,)\n",
            "train data:  (2102, 56)\n",
            "validation data:  (701, 56)\n",
            "test data:  (701, 56)\n"
          ],
          "name": "stdout"
        }
      ]
    },
    {
      "cell_type": "markdown",
      "metadata": {
        "id": "lPRnT86AS03P"
      },
      "source": [
        "# CREATING THE DATAFRAMES AND SAVING "
      ]
    },
    {
      "cell_type": "code",
      "metadata": {
        "id": "vKUlVzUy_LaJ",
        "outputId": "19727530-d066-46ca-f092-18ababca3b28",
        "colab": {
          "base_uri": "https://localhost:8080/",
          "height": 245
        }
      },
      "source": [
        "e=9\n",
        "df_signals=pd.concat([pd.DataFrame([X_train[:,i]]) for i in range(56)],\n",
        "          ignore_index=True)\n",
        "\n",
        "df_targets=pd.concat([pd.DataFrame([y_train[:,i]]) for i in range(e)],\n",
        "          ignore_index=True)\n",
        "\n",
        "df_final=df_signals.append(df_targets)\n",
        "df_final.to_csv(path[0],index=False)\n",
        "print(path[0],df_final) "
      ],
      "execution_count": null,
      "outputs": [
        {
          "output_type": "stream",
          "text": [
            "/content/gdrive/Shared drives/Nikolina/RMS data/1D features/Inter-session/RMS_train_rs_200ms.csv         0         1         2     ...      2099      2100      2101\n",
            "0  -0.240286 -0.235804 -0.128265  ... -0.181038 -0.241764  0.075499\n",
            "1  -0.256663  1.349196 -0.250609  ... -0.201371  0.727993  0.296259\n",
            "2   0.299472 -0.245906 -0.357011  ... -0.357227 -0.354241 -0.353658\n",
            "3  -0.151290 -0.148755 -0.136339  ... -0.131999 -0.151212 -0.070860\n",
            "4  -0.217581 -0.217570 -0.096181  ... -0.190058 -0.216594  0.059085\n",
            "..       ...       ...       ...  ...       ...       ...       ...\n",
            "4   0.000000  0.000000  0.000000  ...  0.000000  0.000000  0.000000\n",
            "5   0.000000  0.000000  0.000000  ...  0.000000  0.000000  0.000000\n",
            "6   0.000000  0.000000  0.000000  ...  0.000000  0.000000  0.000000\n",
            "7   0.000000  0.000000  0.000000  ...  0.000000  0.000000  0.000000\n",
            "8   1.000000  0.000000  0.000000  ...  1.000000  0.000000  0.000000\n",
            "\n",
            "[65 rows x 2102 columns]\n"
          ],
          "name": "stdout"
        }
      ]
    },
    {
      "cell_type": "code",
      "metadata": {
        "id": "tSMUs_c98kXW",
        "outputId": "a4d22b99-7eb7-439e-a736-3cc8c276a685",
        "colab": {
          "base_uri": "https://localhost:8080/",
          "height": 245
        }
      },
      "source": [
        "df_signals=pd.concat([pd.DataFrame([X_val[:,i]]) for i in range(56)],\n",
        "          ignore_index=True)\n",
        "\n",
        "df_targets=pd.concat([pd.DataFrame([y_val[:,i]]) for i in range(e)],\n",
        "          ignore_index=True)\n",
        "\n",
        "df_final=df_signals.append(df_targets)\n",
        "df_final.to_csv(path[1],index=False)\n",
        "print(path[1],df_final) "
      ],
      "execution_count": null,
      "outputs": [
        {
          "output_type": "stream",
          "text": [
            "/content/gdrive/Shared drives/Nikolina/RMS data/1D features/Inter-session/RMS_valid_rs_200ms.csv          0         1         2    ...       698       699       700\n",
            "0  -0.199164 -0.146913 -0.216228  ... -0.233634 -0.240124  0.105071\n",
            "1  -0.236301 -0.243342 -0.241075  ... -0.258803 -0.256076 -0.256421\n",
            "2  -0.351007 -0.349146 -0.345089  ...  0.509606 -0.113410 -0.355233\n",
            "3  -0.045312  0.010213 -0.119230  ... -0.150281 -0.151078 -0.093047\n",
            "4  -0.182342 -0.158021 -0.196735  ... -0.212197 -0.220542 -0.033340\n",
            "..       ...       ...       ...  ...       ...       ...       ...\n",
            "4   0.000000  0.000000  0.000000  ...  0.000000  0.000000  0.000000\n",
            "5   0.000000  0.000000  0.000000  ...  1.000000  0.000000  0.000000\n",
            "6   1.000000  0.000000  0.000000  ...  0.000000  0.000000  0.000000\n",
            "7   0.000000  1.000000  0.000000  ...  0.000000  0.000000  0.000000\n",
            "8   0.000000  0.000000  0.000000  ...  0.000000  0.000000  0.000000\n",
            "\n",
            "[65 rows x 701 columns]\n"
          ],
          "name": "stdout"
        }
      ]
    },
    {
      "cell_type": "code",
      "metadata": {
        "id": "iW915j1qI5qb",
        "outputId": "43df3ed7-c9e8-4302-dadd-c39477e4b225",
        "colab": {
          "base_uri": "https://localhost:8080/",
          "height": 245
        }
      },
      "source": [
        "df_signals=pd.concat([pd.DataFrame([X_test[:,i]]) for i in range(56)],\n",
        "          ignore_index=True)\n",
        "\n",
        "df_targets=pd.concat([pd.DataFrame([y_test[:,i]]) for i in range(e)],\n",
        "          ignore_index=True)\n",
        "\n",
        "df_final=df_signals.append(df_targets)\n",
        "df_final.to_csv(path[2],index=False)\n",
        "print(path[2],df_final) "
      ],
      "execution_count": null,
      "outputs": [
        {
          "output_type": "stream",
          "text": [
            "/content/gdrive/Shared drives/Nikolina/RMS data/1D features/Inter-session/RMS_test_rs_200ms.csv          0         1         2    ...       698       699       700\n",
            "0  -0.218651  0.043339 -0.237437  ... -0.239574 -0.232223 -0.222218\n",
            "1  -0.258520 -0.250907 -0.258796  ... -0.258883 -0.258385 -0.258938\n",
            "2  -0.031618 -0.351594  0.479333  ...  0.161223  0.478103  0.498135\n",
            "3  -0.145544 -0.084332 -0.149297  ... -0.151519 -0.149586 -0.145334\n",
            "4  -0.210088  0.007916 -0.212100  ... -0.215379 -0.205853 -0.197720\n",
            "..       ...       ...       ...  ...       ...       ...       ...\n",
            "4   0.000000  0.000000  0.000000  ...  0.000000  0.000000  0.000000\n",
            "5   0.000000  0.000000  0.000000  ...  0.000000  0.000000  0.000000\n",
            "6   0.000000  0.000000  0.000000  ...  0.000000  1.000000  0.000000\n",
            "7   0.000000  0.000000  0.000000  ...  0.000000  0.000000  0.000000\n",
            "8   0.000000  0.000000  0.000000  ...  0.000000  0.000000  0.000000\n",
            "\n",
            "[65 rows x 701 columns]\n"
          ],
          "name": "stdout"
        }
      ]
    },
    {
      "cell_type": "code",
      "metadata": {
        "id": "2jr4jlg-EhzV"
      },
      "source": [
        ""
      ],
      "execution_count": null,
      "outputs": []
    }
  ]
}