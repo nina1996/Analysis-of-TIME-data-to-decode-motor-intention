{
  "nbformat": 4,
  "nbformat_minor": 0,
  "metadata": {
    "colab": {
      "name": "CNN_RMS_classification_inter_session_gs.ipynb",
      "provenance": [],
      "collapsed_sections": []
    },
    "kernelspec": {
      "name": "python3",
      "display_name": "Python 3"
    },
    "accelerator": "GPU"
  },
  "cells": [
    {
      "cell_type": "markdown",
      "metadata": {
        "id": "Qx1e2WlsLrLr"
      },
      "source": [
        "CNN T=RMS images intra-session grid search. <br>\n",
        "Model consists of the seven Convolutional layers and 5 FC layers.\n",
        "\n",
        "________________________________________________________________________________\n",
        "GS parameters: <br>\n",
        "\n",
        "params = {'nbr_filters_hid1': [64, 128], <br>\n",
        "                'nbr_filters_hid2': [64, 128], <br>\n",
        "                'nbr_filters_hid3': [64, 128], <br>\n",
        "                'nbr_filters_hid4': [64, 128], <br>\n",
        "                'nbr_filters_hid5': [64, 128], <br>\n",
        "                'drop_rate': [0, 0.3], <br>\n",
        "                'lambda_': [1e-5,1e-1,0],\n",
        "                }"
      ]
    },
    {
      "cell_type": "code",
      "metadata": {
        "id": "B7KPRIrS8PIV"
      },
      "source": [
        "from google.colab import drive\n",
        "drive.mount('/content/drive')"
      ],
      "execution_count": null,
      "outputs": []
    },
    {
      "cell_type": "code",
      "metadata": {
        "id": "KYSjRPFr8TLk"
      },
      "source": [
        "!pip uninstall tensorflow"
      ],
      "execution_count": null,
      "outputs": []
    },
    {
      "cell_type": "code",
      "metadata": {
        "id": "hWbC6u2c8UoC"
      },
      "source": [
        "!pip install tensorflow==2.1"
      ],
      "execution_count": null,
      "outputs": []
    },
    {
      "cell_type": "code",
      "metadata": {
        "id": "yTvx4jHT8V86"
      },
      "source": [
        "!pip install git+https://github.com/autonomio/talos@1.0"
      ],
      "execution_count": null,
      "outputs": []
    },
    {
      "cell_type": "code",
      "metadata": {
        "id": "A_LUwEY_8axB"
      },
      "source": [
        "#define model\n",
        "from tensorflow.keras.models import Model\n",
        "from tensorflow.keras.layers import Conv2D\n",
        "from tensorflow.keras.layers import Dense\n",
        "from tensorflow.keras.layers import ReLU\n",
        "from tensorflow.keras.layers import Input\n",
        "from tensorflow.keras.layers import ZeroPadding2D\n",
        "from tensorflow.keras.layers import AveragePooling2D\n",
        "from tensorflow.keras.layers import Dropout\n",
        "from tensorflow.keras.layers import Flatten\n",
        "from tensorflow.keras.layers import BatchNormalization\n",
        "from tensorflow.keras.utils import plot_model\n",
        "from tensorflow.keras.optimizers import Adam\n",
        "from tensorflow.keras.optimizers import SGD\n",
        "from tensorflow.keras.regularizers import l2\n",
        "from tensorflow.keras.callbacks import LearningRateScheduler, EarlyStopping\n",
        "\n",
        "import tensorflow as tf\n",
        "import keras \n",
        "\n",
        "import matplotlib.pyplot as plt\n",
        "\n",
        "def evaluation(prediction, gt, title=None, save=False, path=None,limit=None):\n",
        "  \"\"\"For a given predicted labels and ground truth, plots both of them.\n",
        "  If set is large, use limit  (vector of two indeices) - boundaries to plot subset of the set. \n",
        "  f save, define also path as a folder and filename.\"\"\"\n",
        "  predicted_class=[]\n",
        "  for sample in range(np.shape(prediction)[0]):\n",
        "    predicted_class.append(np.argmax(prediction[sample,:]))\n",
        "    #gt.append(np.argmax(desired_out[sample,:]))\n",
        "  plt.figure(figsize=(20,10))\n",
        "  if limit:\n",
        "    plt.scatter(np.arange(0,limit[1]-limit[0],1),np.array(predicted_class[limit[0]:limit[1]])+1,color= '#E2A76F',linewidths=9)#'#FFA500' \n",
        "    plt.scatter(np.arange(0,limit[1]-limit[0],1),np.array(gt[limit[0]:limit[1]])+1,color='#26292c',marker='*',linewidths=5)\n",
        "  else:\n",
        "    plt.scatter(np.arange(0,np.shape(prediction)[0],1),np.array(predicted_class)+1,color='#355C7D',linewidths=9)\n",
        "    plt.scatter(np.arange(0,np.shape(prediction)[0],1),np.array(gt)+1,color='#FFA500',marker='*',linewidths=4)\n",
        "\n",
        "  plt.xlabel('sample',fontsize=20)\n",
        "  plt.ylabel('class',fontsize=20)\n",
        "  if title:\n",
        "    plt.title(title)\n",
        "  plt.legend(('predicted class','ground truth'),prop={'size': 27},loc=1)# bbox_to_anchor=(0.7,0.648))\n",
        "\n",
        "  if save:\n",
        "    plt.savefig(path)\n",
        "  plt.show()\n",
        "\n",
        "\n",
        "def create_CNN_Ameri_like_model(dim1,dim2,dim_labels = 9,  lambda_ = 1.675e-5, drop_rate = 0.1, nbr_hid1 = 80, nbr_hid2 = 24, nbr_hid3 = 24, nbr_hid4 = 24, nbr_hid5 = 24, kernel_initializer='glorot_uniform'):\n",
        "\n",
        "    input_dim = (dim1,dim2,1)#,1)\n",
        "\n",
        "    ######################################## CONVOLUTIONAL LAYERS ##########################################\n",
        "    visible = Input(shape = input_dim)\n",
        "\n",
        "    # First Block\n",
        "    conv1 = Conv2D(16, kernel_size = (3,3), padding = 'same', kernel_regularizer= l2(lambda_), kernel_initializer=kernel_initializer)(visible)\n",
        "    norm1 = BatchNormalization()(conv1)\n",
        "    act1 = ReLU()(norm1)\n",
        "    pool1 = AveragePooling2D(pool_size = (2,2))(act1)\n",
        "\n",
        "    # Second Block\n",
        "    conv2 = Conv2D(32, kernel_size = (3,3), padding = 'same', kernel_regularizer= l2(lambda_), kernel_initializer=kernel_initializer)(pool1)\n",
        "    norm2 = BatchNormalization()(conv2)\n",
        "    act2 = ReLU()(norm2)\n",
        "    pool2 = AveragePooling2D(pool_size = (2,2))(act2)\n",
        "\n",
        "    # Third Block\n",
        "    conv3 = Conv2D(64, kernel_size = (3,3), padding = 'same', kernel_regularizer= l2(lambda_), kernel_initializer=kernel_initializer)(pool2)\n",
        "    norm3 = BatchNormalization()(conv3)\n",
        "    act3 = ReLU()(norm3)\n",
        "    pool3 = AveragePooling2D(pool_size = (2,2))(act3)\n",
        "\n",
        "   \n",
        "    # Fourth Block\n",
        "    conv4 = Conv2D(64, kernel_size = (3,3), padding = 'same', kernel_regularizer= l2(lambda_), kernel_initializer=kernel_initializer)(pool3)\n",
        "    norm4 = BatchNormalization()(conv4)\n",
        "    act4 = ReLU()(norm4)\n",
        "    pool4 = AveragePooling2D(pool_size = (2,2))(act4)\n",
        "    \n",
        "    # Fifth Block\n",
        "    conv6 = Conv2D(64, kernel_size = (3,3), padding = 'same', kernel_regularizer= l2(lambda_), kernel_initializer=kernel_initializer)(pool4)\n",
        "    norm6 = BatchNormalization()(conv6)\n",
        "    act6 = ReLU()(norm6)\n",
        "\n",
        "    # Sixth Block\n",
        "    conv7 = Conv2D(16, kernel_size = (3,3), padding = 'same', kernel_regularizer= l2(lambda_), kernel_initializer=kernel_initializer)(act6)\n",
        "    norm7 = BatchNormalization()(conv7)\n",
        "    act7 = ReLU()(norm7)\n",
        "\n",
        "    # Seventh Block\n",
        "    conv8 = Conv2D(16, kernel_size = (3,3), padding = 'same', kernel_regularizer= l2(lambda_), kernel_initializer=kernel_initializer)(act6)\n",
        "    norm8 = BatchNormalization()(conv8)\n",
        "    act8 = ReLU()(norm8)\n",
        "\n",
        "    ######################################## FULLY CONNECTED LAYERS #########################################\n",
        "\n",
        "    # First\n",
        "    flat = Flatten()(act8)\n",
        "    hid1 = Dense(nbr_hid1, activation = 'relu', kernel_regularizer = l2(lambda_))(flat)\n",
        "    drop1 = Dropout(rate = drop_rate)(hid1)\n",
        "\n",
        "    # Second\n",
        "    hid2 = Dense(nbr_hid2, activation = 'relu', kernel_regularizer = l2(lambda_))(drop1)\n",
        "    drop2 = Dropout(rate = drop_rate)(hid2)\n",
        "\n",
        "    # Third\n",
        "    hid3 = Dense(nbr_hid3, activation = 'relu', kernel_regularizer = l2(lambda_))(drop2)\n",
        "    drop3 = Dropout(rate = drop_rate)(hid3)\n",
        "\n",
        "    # Fourth\n",
        "    hid4 = Dense(nbr_hid4, activation = 'relu', kernel_regularizer = l2(lambda_))(drop3)\n",
        "    drop4 = Dropout(rate = drop_rate)(hid4)\n",
        "\n",
        "    # Fifth\n",
        "    hid5 = Dense(nbr_hid4, activation = 'relu', kernel_regularizer = l2(lambda_))(drop4)\n",
        "    drop5 = Dropout(rate = drop_rate)(hid5)\n",
        "\n",
        "\n",
        "    ################################################ OUTPUT ################################################\n",
        "\n",
        "    output = Dense(dim_labels, activation = 'softmax', kernel_regularizer = l2(lambda_))(drop5)\n",
        "\n",
        "    model = Model(inputs = visible, outputs = output)\n",
        "\n",
        "    optim = tf.keras.optimizers.Adam()\n",
        "\n",
        "    # Compile model \n",
        "    model.compile(optimizer = optim, \n",
        "                  loss = 'categorical_crossentropy',\n",
        "                  metrics=['accuracy'])\n",
        "\n",
        "    return model\n",
        "\n",
        "def CreateFit_eng_ameri(train_generator,uselesss,valid_generator,useless,params):\n",
        "    \n",
        "    input_dim_r = params['nmb_rows']\n",
        "    input_dim_c = params['nmb_columns']\n",
        "    \n",
        "    #lambda_ = params['lambda_']\n",
        "    drop_rate = params['drop_rate']\n",
        "    nbr_hid1 = params['nbr_filters_hid1']\n",
        "    nbr_hid2 = params['nbr_filters_hid2']\n",
        "    nbr_hid3 = params['nbr_filters_hid3']\n",
        "    nbr_hid4 = params['nbr_filters_hid4']\n",
        "    nbr_hid5 = params['nbr_filters_hid5']\n",
        "    kernel_initializer = params['kernel_initializer']\n",
        "    \n",
        "    model = create_CNN_Ameri_like_model(input_dim_r,input_dim_c,dim_labels = 9)\n",
        "    \n",
        "    # Defining the callbacks we want to use\n",
        "    lrate_schedule = LearningRateScheduler(step_decay)\n",
        "    early_stopper = EarlyStopping(monitor='val_loss', min_delta=0, patience=15, verbose=0, mode='auto', baseline=None, restore_best_weights=True)\n",
        "    callbacks_list = [lrate_schedule,early_stopper]\n",
        "    \n",
        "    out = model.fit(train_generator, epochs = 50, verbose = 1, callbacks = callbacks_list, validation_data = valid_generator)\n",
        "\n",
        "    #########################################\n",
        "    \"\"\"\n",
        "    prediction = model.predict(test_generator, verbose = 0)\n",
        "    pp='/content/drive/Shared drives/Nikolina/Results/Report figures/intersRMSimg.png'\n",
        "    evaluation(prediction, out_test, title=None, save=True, path=pp,limit=[0,60])\"\"\"\n",
        "    #########################################\n",
        "\n",
        "    return out, model"
      ],
      "execution_count": null,
      "outputs": []
    },
    {
      "cell_type": "code",
      "metadata": {
        "id": "77WmMA4k8fFI",
        "colab": {
          "base_uri": "https://localhost:8080/",
          "height": 125
        },
        "outputId": "9aae8dd5-1e9b-4455-9105-b85bd75b1a9a"
      },
      "source": [
        "import pandas as pd\n",
        "import numpy as np\n",
        "from tensorflow.keras.preprocessing.image import ImageDataGenerator\n",
        "session=False\n",
        "\"\"\"Fil the path in the lines 2-18  and batch size in line 20\"\"\"\n",
        "df_filename=['','','']\n",
        "#path to train csv file folder and file name\n",
        "if session:\n",
        "  df_filename[0]=\"/content/drive/Shared drives/Nikolina/RMS data/Images/Session\"+str(session)+\"/train_200ms.csv\"\n",
        "  #path to validation csv file folder and file name\n",
        "  df_filename[1]=\"/content/drive/Shared drives/Nikolina/RMS data/Images/Session\"+str(session)+\"/validation_200ms.csv\"\n",
        "  #path to test csv file folder and file name\n",
        "  df_filename[2]=\"/content/drive/Shared drives/Nikolina/RMS data/Images/Session\"+str(session)+\"/test_200ms.csv\"\n",
        "\n",
        "  dir_=['','','']\n",
        "  dir_[0]=\"/content/drive/Shared drives/Nikolina/RMS data/Images/Session\"+str(session)+\"/Train\"\n",
        "  dir_[1]=\"/content/drive/Shared drives/Nikolina/RMS data/Images/Session\"+str(session)+\"/Validation\"\n",
        "  dir_[2]=\"/content/drive/Shared drives/Nikolina/RMS data/Images/Session\"+str(session)+\"/Test\"\n",
        "\n",
        "else:\n",
        "  df_filename[0]=\"/content/drive/Shared drives/Nikolina/RMS data/Images/Inter-session/train_200ms.csv\"\n",
        "  #path to validation csv file folder and file name\n",
        "  df_filename[1]=\"/content/drive/Shared drives/Nikolina/RMS data/Images/Inter-session/validation_200ms.csv\"\n",
        "  #path to test csv file folder and file name\n",
        "  df_filename[2]=\"/content/drive/Shared drives/Nikolina/RMS data/Images/Inter-session/test_200ms.csv\"\n",
        "  \n",
        "  dir_=['','','']\n",
        "  dir_[0]=\"/content/drive/Shared drives/Nikolina/RMS data/Images/Inter-session/Train\"\n",
        "  dir_[1]=\"/content/drive/Shared drives/Nikolina/RMS data/Images/Inter-session/Validation\"\n",
        "  dir_[2]=\"/content/drive/Shared drives/Nikolina/RMS data/Images/Inter-session/Test\"\n",
        "\n",
        "  print(df_filename)\n",
        "  print(dir_)\n",
        "\n",
        "#path to the folder where you want to store results\n",
        "file_name='drive/Shared drives/Nikolina/Results/RMS images inter-session'\n",
        "\n",
        "#fill the batch size\n",
        "bs=32\n",
        "\n",
        "\n",
        "def step_decay(epoch):\n",
        "    #We half the the learning rate each 10 epochs\n",
        "    initial_l_r = 0.01\n",
        "    drop = 0.5\n",
        "    epochs_drop = 5\n",
        "    lrate = initial_l_r * np.power(drop,np.floor((1 + epoch)/epochs_drop))\n",
        "    # if you want to avoid the learning rate decay, uncomment this line.\n",
        "    #lrate = initial_l_r\n",
        "    #print('The learning rate is : ', lrate)\n",
        "    return lrate\n",
        "    \n",
        "#DEFINITION OF PARAMETERS \n",
        "\n",
        "nmb_rows=16 #define dimensions \n",
        "nmb_columns=28 #define dimensions\n",
        "\n",
        "#TRAIN\n",
        "dft=pd.read_csv(df_filename[0])\n",
        "datagen=ImageDataGenerator(rescale=1/255)#\n",
        "train_generator=datagen.flow_from_dataframe(dataframe=dft, \n",
        "                                            directory= dir_[0],\n",
        "                                            x_col=\"filename\", y_col=[\"target1\",\"target2\",\"target3\",\"target4\",\"target5\",\"target6\",\"target7\",\"target8\",\"target9\"], \n",
        "                                            class_mode=\"raw\", \n",
        "                                            target_size=(nmb_rows,nmb_columns), #tuple of integers `(height, width)\n",
        "                                            batch_size=bs, \n",
        "                                            color_mode=\"grayscale\",\n",
        "                                            shuffle=True)  #shuffle is important in our case!\n",
        "\n",
        "#VALIDATION\n",
        "dfv=pd.read_csv(df_filename[1])\n",
        "datagen=ImageDataGenerator(rescale=1/255)#\n",
        "valid_generator=datagen.flow_from_dataframe(dataframe=dfv, \n",
        "                                            directory=dir_[1], \n",
        "                                            x_col=\"filename\", y_col=[\"target1\",\"target2\",\"target3\",\"target4\",\"target5\",\"target6\",\"target7\",\"target8\",\"target9\"], \n",
        "                                            class_mode=\"raw\", \n",
        "                                            target_size=(nmb_rows,nmb_columns), \n",
        "                                            batch_size=bs,\n",
        "                                            color_mode=\"grayscale\",\n",
        "                                            shuffle=True)  #shuffle is important in our case!\n",
        "\n",
        "#TEST\n",
        "#just read again with shuffle=false to make sure there is no confusion between predicted order and original labels \n",
        "dfte=pd.read_csv(df_filename[2])\n",
        "datagen=ImageDataGenerator()#rescale=1/255\n",
        "test_generator=datagen.flow_from_dataframe(dataframe=dfte, \n",
        "                                            directory= dir_[2], \n",
        "                                            x_col=\"filename\", y_col=[\"target1\",\"target2\",\"target3\",\"target4\",\"target5\",\"target6\",\"target7\",\"target8\",\"target9\"],\n",
        "                                            class_mode=\"raw\", \n",
        "                                            target_size=(nmb_rows,nmb_columns), \n",
        "                                            batch_size=bs,\n",
        "                                            color_mode=\"grayscale\",\n",
        "                                            shuffle=True)"
      ],
      "execution_count": null,
      "outputs": [
        {
          "output_type": "stream",
          "text": [
            "['/content/drive/Shared drives/Nikolina/RMS data/Images/Inter-session/train_200ms.csv', '/content/drive/Shared drives/Nikolina/RMS data/Images/Inter-session/validation_200ms.csv', '/content/drive/Shared drives/Nikolina/RMS data/Images/Inter-session/test_200ms.csv']\n",
            "['/content/drive/Shared drives/Nikolina/RMS data/Images/Inter-session/Train', '/content/drive/Shared drives/Nikolina/RMS data/Images/Inter-session/Validation', '/content/drive/Shared drives/Nikolina/RMS data/Images/Inter-session/Test']\n",
            "Found 1475 validated image filenames.\n",
            "Found 514 validated image filenames.\n",
            "Found 514 validated image filenames.\n"
          ],
          "name": "stdout"
        }
      ]
    },
    {
      "cell_type": "code",
      "metadata": {
        "id": "78hHcT2m9wjO"
      },
      "source": [
        "#Grid search\n",
        "params = {'nbr_filters_hid1': [64, 128],\n",
        "                'nbr_filters_hid2': [64, 128],\n",
        "                'nbr_filters_hid3': [64, 128],\n",
        "                'nbr_filters_hid4': [64, 128],\n",
        "                'nbr_filters_hid5': [64, 128],\n",
        "                'drop_rate': [0, 0.3],\n",
        "                'kernel_initializer':['glorot_uniform'],\n",
        "                'lambda_': [1e-5,1e-1,0],\n",
        "                'nmb_rows': [nmb_rows],\n",
        "                'nmb_columns':[nmb_columns],  \n",
        "                }\n",
        "\n",
        "import talos as ta\n",
        "from talos.utils.gpu_utils import parallel_gpu_jobs\n",
        "\n",
        "parallel_gpu_jobs(allow_growth = True, fraction = 0.95)\n",
        "scan_results = ta.Scan(train_generator, None, params,  CreateFit_eng_ameri, experiment_name = 'drive/My Drive/CNN raw results/intersVal',\n",
        "                       x_val=valid_generator, y_val = 0)"
      ],
      "execution_count": null,
      "outputs": []
    },
    {
      "cell_type": "markdown",
      "metadata": {
        "id": "JtewtUYSjpEe"
      },
      "source": [
        "Run the best model."
      ]
    },
    {
      "cell_type": "code",
      "metadata": {
        "id": "TIBsGg8rAJTY"
      },
      "source": [
        "path='/content/drive/Shared drives/Nikolina/Results/RMS images inter-session/rms_images_intersession.csv'\n",
        "results=pd.read_csv(path) "
      ],
      "execution_count": null,
      "outputs": []
    },
    {
      "cell_type": "code",
      "metadata": {
        "id": "hUVZu3T6GtMo",
        "colab": {
          "base_uri": "https://localhost:8080/",
          "height": 104
        },
        "outputId": "824b984a-18e7-4761-8078-6cacf4d442bf"
      },
      "source": [
        "val_acc=results.val_accuracy\n",
        "print(max(val_acc))\n",
        "best=np.where(val_acc==max(val_acc))[0]\n",
        "print(best)\n",
        "print(val_acc[best])"
      ],
      "execution_count": null,
      "outputs": [
        {
          "output_type": "stream",
          "text": [
            "0.14396887\n",
            "[130 182]\n",
            "130    0.143969\n",
            "182    0.143969\n",
            "Name: val_accuracy, dtype: float64\n"
          ],
          "name": "stdout"
        }
      ]
    },
    {
      "cell_type": "code",
      "metadata": {
        "id": "sPIosbpVh21y"
      },
      "source": [
        "#Grid search\n",
        "params = {'nbr_filters_hid1': [64],\n",
        "                'nbr_filters_hid2': [64],\n",
        "                'nbr_filters_hid3': [64],\n",
        "                'nbr_filters_hid4': [128],\n",
        "                'nbr_filters_hid5': [64],\n",
        "                'drop_rate': [0.3],\n",
        "                'kernel_initializer':['glorot_uniform'],\n",
        "                'lambda_': [1e-1],\n",
        "                'nmb_rows': [nmb_rows],\n",
        "                'nmb_columns':[nmb_columns],  \n",
        "                }\n",
        "\n",
        "import talos as ta\n",
        "from talos.utils.gpu_utils import parallel_gpu_jobs\n",
        "for i in range(20):\n",
        "\n",
        "  parallel_gpu_jobs(allow_growth = True, fraction = 0.95)\n",
        "  scan_results = ta.Scan(train_generator, None, params,  CreateFit_eng_ameri, experiment_name = 'drive/My Drive/CNN rms results/intersValid',\n",
        "                        x_val=valid_generator, y_val = 0)"
      ],
      "execution_count": null,
      "outputs": []
    },
    {
      "cell_type": "code",
      "metadata": {
        "id": "fyrfNLXRzcVi"
      },
      "source": [
        "#Grid search\n",
        "params = {'nbr_filters_hid1': [64],\n",
        "                'nbr_filters_hid2': [64],\n",
        "                'nbr_filters_hid3': [64],\n",
        "                'nbr_filters_hid4': [128],\n",
        "                'nbr_filters_hid5': [64],\n",
        "                'drop_rate': [0.3],\n",
        "                'kernel_initializer':['glorot_uniform'],\n",
        "                'lambda_': [1e-1],\n",
        "                'nmb_rows': [nmb_rows],\n",
        "                'nmb_columns':[nmb_columns],  \n",
        "                }\n",
        "\n",
        "import talos as ta\n",
        "from talos.utils.gpu_utils import parallel_gpu_jobs\n",
        "for i in range(20):\n",
        "\n",
        "  parallel_gpu_jobs(allow_growth = True, fraction = 0.95)\n",
        "  scan_results = ta.Scan(train_generator, None, params,  CreateFit_eng_ameri, experiment_name = 'drive/My Drive/CNN rms results/intersTest',\n",
        "                        x_val=test_generator, y_val = 0)"
      ],
      "execution_count": null,
      "outputs": []
    },
    {
      "cell_type": "code",
      "metadata": {
        "id": "bwzcmvuJ-aFO",
        "colab": {
          "base_uri": "https://localhost:8080/",
          "height": 1000
        },
        "outputId": "df921c66-6a91-453b-9c7f-5fa0f100532a"
      },
      "source": [
        "#Grid search\n",
        "params = {'nbr_filters_hid1': [64],\n",
        "                'nbr_filters_hid2': [64],\n",
        "                'nbr_filters_hid3': [64],\n",
        "                'nbr_filters_hid4': [128],\n",
        "                'nbr_filters_hid5': [64],\n",
        "                'drop_rate': [0.3],\n",
        "                'kernel_initializer':['glorot_uniform'],\n",
        "                'lambda_': [1e-1],\n",
        "                'nmb_rows': [nmb_rows],\n",
        "                'nmb_columns':[nmb_columns],  \n",
        "                }\n",
        "\n",
        "import talos as ta\n",
        "from talos.utils.gpu_utils import parallel_gpu_jobs\n",
        "for i in range(1):\n",
        "\n",
        "  parallel_gpu_jobs(allow_growth = True, fraction = 0.95)\n",
        "  scan_results = ta.Scan(train_generator, None, params,  CreateFit_eng_ameri, experiment_name = 'plot',\n",
        "                        x_val=test_generator, y_val = 0)"
      ],
      "execution_count": null,
      "outputs": [
        {
          "output_type": "stream",
          "text": [
            "\r  0%|          | 0/1 [00:00<?, ?it/s]"
          ],
          "name": "stderr"
        },
        {
          "output_type": "stream",
          "text": [
            "WARNING:tensorflow:sample_weight modes were coerced from\n",
            "  ...\n",
            "    to  \n",
            "  ['...']\n",
            "WARNING:tensorflow:sample_weight modes were coerced from\n",
            "  ...\n",
            "    to  \n",
            "  ['...']\n",
            "Train for 47 steps, validate for 17 steps\n",
            "Epoch 1/50\n",
            "47/47 [==============================] - 6s 126ms/step - loss: 2.2102 - accuracy: 0.1173 - val_loss: 45.8706 - val_accuracy: 0.1089\n",
            "Epoch 2/50\n",
            "47/47 [==============================] - 4s 83ms/step - loss: 2.2044 - accuracy: 0.1349 - val_loss: 73.1121 - val_accuracy: 0.1128\n",
            "Epoch 3/50\n",
            "47/47 [==============================] - 4s 84ms/step - loss: 2.2013 - accuracy: 0.1383 - val_loss: 26.0009 - val_accuracy: 0.1089\n",
            "Epoch 4/50\n",
            "47/47 [==============================] - 4s 84ms/step - loss: 2.1993 - accuracy: 0.1207 - val_loss: 43.4707 - val_accuracy: 0.1109\n",
            "Epoch 5/50\n",
            "47/47 [==============================] - 4s 84ms/step - loss: 2.1863 - accuracy: 0.1505 - val_loss: 77.3016 - val_accuracy: 0.1089\n",
            "Epoch 6/50\n",
            "47/47 [==============================] - 4s 83ms/step - loss: 2.1841 - accuracy: 0.1553 - val_loss: 338.5568 - val_accuracy: 0.1089\n",
            "Epoch 7/50\n",
            "47/47 [==============================] - 4s 84ms/step - loss: 2.1726 - accuracy: 0.1559 - val_loss: 12.3948 - val_accuracy: 0.1089\n",
            "Epoch 8/50\n",
            "47/47 [==============================] - 4s 85ms/step - loss: 2.1757 - accuracy: 0.1593 - val_loss: 42.6513 - val_accuracy: 0.1089\n",
            "Epoch 9/50\n",
            "47/47 [==============================] - 4s 83ms/step - loss: 2.1704 - accuracy: 0.1573 - val_loss: 172.3059 - val_accuracy: 0.1089\n",
            "Epoch 10/50\n",
            "47/47 [==============================] - 4s 82ms/step - loss: 2.1666 - accuracy: 0.1532 - val_loss: 77.4464 - val_accuracy: 0.1089\n",
            "Epoch 11/50\n",
            "47/47 [==============================] - 4s 84ms/step - loss: 2.1447 - accuracy: 0.1722 - val_loss: 61.5932 - val_accuracy: 0.1128\n",
            "Epoch 12/50\n",
            "47/47 [==============================] - 4s 83ms/step - loss: 2.1320 - accuracy: 0.1837 - val_loss: 156.2089 - val_accuracy: 0.1128\n",
            "Epoch 13/50\n",
            "47/47 [==============================] - 4s 95ms/step - loss: 2.1187 - accuracy: 0.1749 - val_loss: 52.2007 - val_accuracy: 0.1128\n",
            "Epoch 14/50\n",
            "47/47 [==============================] - 5s 116ms/step - loss: 2.1376 - accuracy: 0.1681 - val_loss: 35.5750 - val_accuracy: 0.1167\n",
            "Epoch 15/50\n",
            "47/47 [==============================] - 5s 101ms/step - loss: 2.0837 - accuracy: 0.1878 - val_loss: 23.0399 - val_accuracy: 0.1128\n",
            "Epoch 16/50\n",
            "47/47 [==============================] - 4s 84ms/step - loss: 2.0452 - accuracy: 0.2007 - val_loss: 126.2921 - val_accuracy: 0.1128\n",
            "Epoch 17/50\n",
            "47/47 [==============================] - 4s 83ms/step - loss: 2.0640 - accuracy: 0.1925 - val_loss: 93.7495 - val_accuracy: 0.1128\n",
            "Epoch 18/50\n",
            "47/47 [==============================] - 4s 83ms/step - loss: 2.0115 - accuracy: 0.1946 - val_loss: 492.2509 - val_accuracy: 0.1128\n",
            "Epoch 19/50\n",
            "47/47 [==============================] - 4s 82ms/step - loss: 1.9883 - accuracy: 0.2068 - val_loss: 95.2186 - val_accuracy: 0.1128\n",
            "Epoch 20/50\n",
            "47/47 [==============================] - 4s 82ms/step - loss: 1.9468 - accuracy: 0.2014 - val_loss: 85.3152 - val_accuracy: 0.1070\n",
            "Epoch 21/50\n",
            "47/47 [==============================] - 4s 83ms/step - loss: 1.9047 - accuracy: 0.2122 - val_loss: 158.6770 - val_accuracy: 0.1128\n",
            "Epoch 22/50\n",
            "47/47 [==============================] - 4s 82ms/step - loss: 1.8953 - accuracy: 0.2197 - val_loss: 316.3873 - val_accuracy: 0.1128\n"
          ],
          "name": "stdout"
        },
        {
          "output_type": "display_data",
          "data": {
            "image/png": "[encoded data removed]",
            "text/plain": [
              "<Figure size 1440x720 with 1 Axes>"
            ]
          },
          "metadata": {
            "tags": [],
            "needs_background": "light"
          }
        },
        {
          "output_type": "stream",
          "text": [
            "100%|██████████| 1/1 [01:34<00:00, 94.82s/it]\n"
          ],
          "name": "stderr"
        }
      ]
    },
    {
      "cell_type": "code",
      "metadata": {
        "id": "rqf0L443Gwam"
      },
      "source": [
        "predictions=[]\n",
        "test_acc=[]\n",
        "valid_acc=[]\n",
        "train_acc=[]\n",
        "\n",
        "\n",
        "\n",
        "# Defining the callbacks we want to use\n",
        "lrate_schedule = LearningRateScheduler(step_decay)\n",
        "early_stopper = EarlyStopping(monitor='val_loss', min_delta=0, patience=15, verbose=0, mode='auto', baseline=None, restore_best_weights=True)\n",
        "callbacks_list = [lrate_schedule,early_stopper]\n",
        "\n",
        "for i in range(20):\n",
        "  print('\\nTraining, iteration '+ str(i))\n",
        "  model = create_CNN_Ameri_like_model(nmb_rows,nmb_columns,dim_labels = 9,  lambda_ = 1e-1, drop_rate = 0.3, nbr_hid1 = 64, nbr_hid2 = 64, nbr_hid3 = 64, nbr_hid4 = 128, nbr_hid5 = 64, kernel_initializer='glorot_uniform')\n",
        "  h= model.fit(train_generator, epochs = 50, verbose = 0, callbacks = callbacks_list, validation_data = valid_generator)#50 epochs\n",
        "  prediction = model.predict(test_generator, verbose = 0)\n",
        "  test_scores = model.evaluate(test_generator, verbose = 0)\n",
        "  \n",
        "  print('Train accuracy:' , h.history['accuracy'][-1])\n",
        "  print('Test accuracy:',test_scores[-1])\n",
        "  print('Validation accuracy:',h.history['val_accuracy'][-1])\n",
        "\n",
        "  predictions.append(prediction)\n",
        "\n",
        "  test_acc.append(test_scores[-1])\n",
        "  train_acc.append(h.history['accuracy'][-1])\n",
        "  valid_acc.append(h.history['val_accuracy'][-1])"
      ],
      "execution_count": null,
      "outputs": []
    },
    {
      "cell_type": "code",
      "metadata": {
        "id": "nsO25MeKGxHc",
        "colab": {
          "base_uri": "https://localhost:8080/",
          "height": 69
        },
        "outputId": "704c4afe-880e-4dc4-f08b-c17fd808b64e"
      },
      "source": [
        "print('train accuracy: '+ str(np.mean(train_acc)) + '+-' + str(np.std(train_acc)))\n",
        "print('validation accuracy: '+ str(np.mean(valid_acc)) + '+-' + str(np.std(valid_acc)))\n",
        "print('test accuracy: '+ str(np.mean(test_acc)) + '+-' + str(np.std(test_acc)))"
      ],
      "execution_count": null,
      "outputs": [
        {
          "output_type": "stream",
          "text": [
            "train accuracy: 0.12677965+-1.4901161e-08\n",
            "validation accuracy: 0.12256809+-0.0\n",
            "test accuracy: 0.12256809+-0.0\n"
          ],
          "name": "stdout"
        }
      ]
    },
    {
      "cell_type": "code",
      "metadata": {
        "id": "T2RuJ7gRG3qk"
      },
      "source": [
        "out_test=list(np.where(test_generator[0][1]==1)[1])\n",
        "for gen_ind in np.arange(2,len(test_generator)+1,1):\n",
        "  n=(gen_ind-1)*bs\n",
        "  print(gen_ind)\n",
        "  out_test+=list(np.where(test_generator[gen_ind-1][1]==1)[1])\n",
        "  #out_test.append(test_generator[gen_ind-1][1][:,0:9])\n",
        "  #print((test_generator[gen_ind-1][1]))\n",
        "print(np.shape(out_test))"
      ],
      "execution_count": null,
      "outputs": []
    },
    {
      "cell_type": "code",
      "metadata": {
        "id": "9Sx2UQdEG52D",
        "colab": {
          "base_uri": "https://localhost:8080/",
          "height": 614
        },
        "outputId": "363c649e-518c-4666-ca2f-68e760a1fb3b"
      },
      "source": [
        "pp='/content/drive/Shared drives/Nikolina/Results/Report figures/intersRMSimg.png'\n",
        "evaluation(prediction, out_test, title=None, save=True, path=pp,limit=[0,60])"
      ],
      "execution_count": null,
      "outputs": [
        {
          "output_type": "display_data",
          "data": {
            "image/png": "[encoded data removed]",
            "text/plain": [
              "<Figure size 1440x720 with 1 Axes>"
            ]
          },
          "metadata": {
            "tags": [],
            "needs_background": "light"
          }
        }
      ]
    },
    {
      "cell_type": "code",
      "metadata": {
        "id": "86XV7ZT0SKdS",
        "colab": {
          "base_uri": "https://localhost:8080/",
          "height": 614
        },
        "outputId": "bb92120e-b2e8-4a10-841c-50230cea6a10"
      },
      "source": [
        "evaluation(prediction, out_test, title=None, save=True, path=pp)"
      ],
      "execution_count": null,
      "outputs": [
        {
          "output_type": "display_data",
          "data": {
            "image/png": "[encoded data removed]",
            "text/plain": [
              "<Figure size 1440x720 with 1 Axes>"
            ]
          },
          "metadata": {
            "tags": [],
            "needs_background": "light"
          }
        }
      ]
    },
    {
      "cell_type": "code",
      "metadata": {
        "id": "zav7VDeaSF6k"
      },
      "source": [
        ""
      ],
      "execution_count": null,
      "outputs": []
    }
  ]
}