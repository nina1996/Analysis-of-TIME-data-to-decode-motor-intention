{
  "nbformat": 4,
  "nbformat_minor": 0,
  "metadata": {
    "colab": {
      "name": "CNN_RMS_classification_intra_session.ipynb",
      "provenance": [],
      "collapsed_sections": []
    },
    "kernelspec": {
      "name": "python3",
      "display_name": "Python 3"
    },
    "accelerator": "GPU"
  },
  "cells": [
    {
      "cell_type": "markdown",
      "metadata": {
        "id": "3XCigk92DHeW"
      },
      "source": [
        "Intra session-RMS images classification.<br>\n",
        "Two convolutional layers, and 2 hidden layers are used.\n",
        "\n",
        "________________________________________________________________________________\n",
        "GS parameters:\n",
        "\n",
        "params = {'nbr_filters_hid1': [64],<br>\n",
        "          'nbr_filters_hid2': [24, 32, 64, 128],<br>\n",
        "          'drop_rate': list(np.linspace(0,0.5,6).astype('float32')),<br>\n",
        "           'kernel_initializer':['glorot_uniform'],<br>\n",
        "           'lambda_': list(np.linspace(1e-5,1e-1,5).astype('float32')) + [0]\n",
        "                }\n"
      ]
    },
    {
      "cell_type": "code",
      "metadata": {
        "id": "B7KPRIrS8PIV"
      },
      "source": [
        "from google.colab import drive\n",
        "drive.mount('/content/drive')"
      ],
      "execution_count": null,
      "outputs": []
    },
    {
      "cell_type": "code",
      "metadata": {
        "id": "KYSjRPFr8TLk"
      },
      "source": [
        "!pip uninstall tensorflow"
      ],
      "execution_count": null,
      "outputs": []
    },
    {
      "cell_type": "code",
      "metadata": {
        "id": "hWbC6u2c8UoC"
      },
      "source": [
        "!pip install tensorflow==2.1"
      ],
      "execution_count": null,
      "outputs": []
    },
    {
      "cell_type": "code",
      "metadata": {
        "id": "yTvx4jHT8V86"
      },
      "source": [
        "!pip install git+https://github.com/autonomio/talos@1.0"
      ],
      "execution_count": null,
      "outputs": []
    },
    {
      "cell_type": "code",
      "metadata": {
        "id": "A_LUwEY_8axB"
      },
      "source": [
        "#define model\n",
        "from tensorflow.keras.models import Model\n",
        "from tensorflow.keras.layers import Conv2D\n",
        "from tensorflow.keras.layers import Dense\n",
        "from tensorflow.keras.layers import ReLU\n",
        "from tensorflow.keras.layers import Input\n",
        "from tensorflow.keras.layers import ZeroPadding2D\n",
        "from tensorflow.keras.layers import AveragePooling2D\n",
        "from tensorflow.keras.layers import Dropout\n",
        "from tensorflow.keras.layers import Flatten\n",
        "from tensorflow.keras.layers import BatchNormalization\n",
        "from tensorflow.keras.utils import plot_model\n",
        "from tensorflow.keras.optimizers import Adam\n",
        "from tensorflow.keras.optimizers import SGD\n",
        "from tensorflow.keras.regularizers import l2\n",
        "from tensorflow.keras.callbacks import LearningRateScheduler, EarlyStopping\n",
        "\n",
        "import tensorflow as tf\n",
        "import keras \n",
        "\n",
        "import matplotlib.pyplot as plt\n",
        "\n",
        "def evaluation(prediction, gt, title=None, save=False, path=None,limit=None):\n",
        "  \"\"\"For a given predicted labels and ground truth, plots both of them.\n",
        "  If set is large, use limit  (vector of two indeices) - boundaries to plot subset of the set. \n",
        "  f save, define also path as a folder and filename.\"\"\"\n",
        "  predicted_class=[]\n",
        "  for sample in range(np.shape(prediction)[0]):\n",
        "    predicted_class.append(np.argmax(prediction[sample,:]))\n",
        "    #gt.append(np.argmax(desired_out[sample,:]))\n",
        "  plt.figure(figsize=(20,10))\n",
        "  if limit:\n",
        "    plt.scatter(np.arange(0,limit[1]-limit[0],1),np.array(predicted_class[limit[0]:limit[1]])+1,color= '#FFA500',linewidths=9)# '#E2A76F'\n",
        "    plt.scatter(np.arange(0,limit[1]-limit[0],1),np.array(gt[limit[0]:limit[1]])+1,color='#26292c',marker='*',linewidths=5)\n",
        "  else:\n",
        "    plt.scatter(np.arange(0,np.shape(prediction)[0],1),np.array(predicted_class)+1,color='#355C7D',linewidths=9)\n",
        "    plt.scatter(np.arange(0,np.shape(prediction)[0],1),np.array(gt)+1,color='#FFA500',marker='*',linewidths=4)\n",
        "\n",
        "  plt.xlabel('sample',fontsize=20)\n",
        "  plt.ylabel('class',fontsize=20)\n",
        "  if title:\n",
        "    plt.title(title)\n",
        "  #plt.legend(('predicted class','ground truth'),prop={'size': 27},loc=1)# bbox_to_anchor=(0.7,0.648))\n",
        "\n",
        "  if save:\n",
        "    plt.savefig(path)\n",
        "  plt.show()\n",
        "\n",
        "\n",
        "def create_CNN_Ameri_like_model(dim1,dim2,dim_labels = 9,  lambda_ = 1.675e-5, drop_rate = 0.1, nbr_hid1 = 80, nbr_hid2 = 80, kernel_initializer='glorot_uniform'):\n",
        "\n",
        "    input_dim = (dim1,dim2,1)\n",
        "\n",
        "    visible = Input(shape = input_dim)\n",
        "\n",
        "    ######################################## CONVOLUTIONAL LAYERS ##########################################\n",
        "    # First Block\n",
        "    conv1 = Conv2D(16, kernel_size = (3,3), padding = 'same', kernel_regularizer= l2(lambda_), kernel_initializer=kernel_initializer)(visible)\n",
        "    norm1 = BatchNormalization()(conv1)\n",
        "    act1 = ReLU()(norm1)\n",
        "    pool1 = AveragePooling2D(pool_size = (2,2))(act1)\n",
        "\n",
        "    # Second Block\n",
        "    conv2 = Conv2D(32, kernel_size = (3,3), padding = 'same', kernel_regularizer= l2(lambda_), kernel_initializer=kernel_initializer)(pool1)\n",
        "    norm2 = BatchNormalization()(conv2)\n",
        "    act2 = ReLU()(norm2)\n",
        "    pool2 = AveragePooling2D(pool_size = (2,2))(act2)\n",
        "\n",
        "    ######################################## FULLY CONNECTED LAYERS #########################################\n",
        "\n",
        "    # Fully connected layer 1\n",
        "    flat = Flatten()(act2)\n",
        "    hid1 = Dense(nbr_hid1, activation = 'relu', kernel_regularizer = l2(lambda_))(flat)\n",
        "\n",
        "    # Fully connected layer 2\n",
        "    drop1 = Dropout(rate = drop_rate)(hid1)\n",
        "    hid2 = Dense(nbr_hid2, activation = 'relu', kernel_regularizer = l2(lambda_))(drop1)\n",
        "    drop2 = Dropout(rate = drop_rate)(hid2)\n",
        "\n",
        "    ################################################ OUTPUT ################################################\n",
        "\n",
        "    output = Dense(dim_labels, activation = 'softmax', kernel_regularizer = l2(lambda_))(drop2)\n",
        "\n",
        "    model = Model(inputs = visible, outputs = output)\n",
        "\n",
        "    optim = tf.keras.optimizers.Adam()\n",
        "    # Compile model \n",
        "    model.compile(optimizer = optim, \n",
        "                  loss = 'categorical_crossentropy',\n",
        "                  metrics=['accuracy'])\n",
        "\n",
        "    return model\n",
        "\n",
        "def CreateFit_eng_ameri(train_generator,uselesss,valid_generator,useless,params):\n",
        "    \n",
        "    input_dim_r = params['nmb_rows']\n",
        "    input_dim_c = params['nmb_columns']\n",
        "    \n",
        "    #lambda_ = params['lambda_']\n",
        "    drop_rate = params['drop_rate']\n",
        "    nbr_hid1 = params['nbr_filters_hid1']\n",
        "    nbr_hid2 = params['nbr_filters_hid2']\n",
        "    kernel_initializer = params['kernel_initializer']\n",
        "    \n",
        "    model = create_CNN_Ameri_like_model(input_dim_r,input_dim_c,dim_labels = 9)\n",
        "\n",
        "    # Defining the callbacks we want to use\n",
        "    lrate_schedule = LearningRateScheduler(step_decay)\n",
        "    early_stopper = EarlyStopping(monitor='val_loss', min_delta=0, patience=15, verbose=1, mode='auto', baseline=None, restore_best_weights=True)\n",
        "    callbacks_list = [lrate_schedule,early_stopper]\n",
        "    \n",
        "    out = model.fit(train_generator, epochs = 50, verbose = 0, callbacks = callbacks_list, validation_data = valid_generator)\n",
        "\n",
        "    return out, model"
      ],
      "execution_count": null,
      "outputs": []
    },
    {
      "cell_type": "code",
      "metadata": {
        "id": "77WmMA4k8fFI",
        "colab": {
          "base_uri": "https://localhost:8080/",
          "height": 125
        },
        "outputId": "0dc4dddf-f7ea-445a-9f43-a5f7ba58e248"
      },
      "source": [
        "import pandas as pd\n",
        "import numpy as np\n",
        "from tensorflow.keras.preprocessing.image import ImageDataGenerator\n",
        "session=5\n",
        "\"\"\"Fil the path in the lines 2-18  and batch size in line 20\"\"\"\n",
        "df_filename=['','','']\n",
        "\n",
        "#path to train csv file folder and file name\n",
        "df_filename[0]=\"/content/drive/Shared drives/Nikolina/RMS data/Images/Session\"+str(session)+\"/train_200ms.csv\"\n",
        "#path to validation csv file folder and file name\n",
        "df_filename[1]=\"/content/drive/Shared drives/Nikolina/RMS data/Images/Session\"+str(session)+\"/validation_200ms.csv\"\n",
        "#path to test csv file folder and file name\n",
        "df_filename[2]=\"/content/drive/Shared drives/Nikolina/RMS data/Images/Session\"+str(session)+\"/test_200ms.csv\"\n",
        "\n",
        "dir_=['','','']\n",
        "dir_[0]=\"/content/drive/Shared drives/Nikolina/RMS data/Images/Session\"+str(session)+\"/Train\"\n",
        "dir_[1]=\"/content/drive/Shared drives/Nikolina/RMS data/Images/Session\"+str(session)+\"/Validation\"\n",
        "dir_[2]=\"/content/drive/Shared drives/Nikolina/RMS data/Images/Session\"+str(session)+\"/Test\"\n",
        "\n",
        "file_name='drive/Shared drives/Nikolina/Results/RMS images intra-session/Session'+str(session)\n",
        "\n",
        "print(df_filename)\n",
        "print(dir_)\n",
        "\n",
        "#fill the batch size\n",
        "bs=32\n",
        "\n",
        "\n",
        "def step_decay(epoch):\n",
        "    #We half the the learning rate each 10 epochs\n",
        "    initial_l_r = 0.01\n",
        "    drop = 0.5\n",
        "    epochs_drop = 5\n",
        "    lrate = initial_l_r * np.power(drop,np.floor((1 + epoch)/epochs_drop))\n",
        "    return lrate\n",
        "    \n",
        "########## LOAD THE IMAGES AND TARGETS, AND CREATE GENERATORS ##########\n",
        "\n",
        "nmb_rows=16 #define dimensions \n",
        "nmb_columns=28 #define dimensions\n",
        "\n",
        "#Create dataframes and datagenerators: \n",
        "#TRAIN\n",
        "dft=pd.read_csv(df_filename[0])\n",
        "datagen=ImageDataGenerator(rescale=1/255)#\n",
        "train_generator=datagen.flow_from_dataframe(dataframe=dft,  #images folder\n",
        "                                            directory= dir_[0],\n",
        "                                            x_col=\"filename\", y_col=[\"target1\",\"target2\",\"target3\",\"target4\",\"target5\",\"target6\",\"target7\",\"target8\",\"target9\"], \n",
        "                                            class_mode=\"raw\", \n",
        "                                            target_size=(nmb_rows,nmb_columns), #tuple of integers `(height, width)\n",
        "                                            batch_size=bs, \n",
        "                                            color_mode=\"grayscale\",\n",
        "                                            shuffle=True)  \n",
        "\n",
        "#VALIDATION\n",
        "dfv=pd.read_csv(df_filename[1])\n",
        "datagen=ImageDataGenerator(rescale=1/255)#\n",
        "valid_generator=datagen.flow_from_dataframe(dataframe=dfv, \n",
        "                                            directory=dir_[1], \n",
        "                                            x_col=\"filename\", y_col=[\"target1\",\"target2\",\"target3\",\"target4\",\"target5\",\"target6\",\"target7\",\"target8\",\"target9\"], \n",
        "                                            class_mode=\"raw\", \n",
        "                                            target_size=(nmb_rows,nmb_columns), \n",
        "                                            batch_size=bs,\n",
        "                                            color_mode=\"grayscale\",\n",
        "                                            shuffle=True) \n",
        "\n",
        "#TEST\n",
        "#just read with shuffle=false to make sure final plots looks like expected\n",
        "dfte=pd.read_csv(df_filename[2])\n",
        "datagen=ImageDataGenerator()#rescale=1/255\n",
        "test_generator=datagen.flow_from_dataframe(dataframe=dfte, \n",
        "                                            directory= dir_[2], \n",
        "                                            x_col=\"filename\", y_col=[\"target1\",\"target2\",\"target3\",\"target4\",\"target5\",\"target6\",\"target7\",\"target8\",\"target9\"],\n",
        "                                            class_mode=\"raw\", \n",
        "                                            target_size=(nmb_rows,nmb_columns), \n",
        "                                            batch_size=bs,\n",
        "                                            color_mode=\"grayscale\",\n",
        "                                            shuffle=True)"
      ],
      "execution_count": null,
      "outputs": [
        {
          "output_type": "stream",
          "text": [
            "['/content/drive/Shared drives/Nikolina/RMS data/Images/Session5/train_200ms.csv', '/content/drive/Shared drives/Nikolina/RMS data/Images/Session5/validation_200ms.csv', '/content/drive/Shared drives/Nikolina/RMS data/Images/Session5/test_200ms.csv']\n",
            "['/content/drive/Shared drives/Nikolina/RMS data/Images/Session5/Train', '/content/drive/Shared drives/Nikolina/RMS data/Images/Session5/Validation', '/content/drive/Shared drives/Nikolina/RMS data/Images/Session5/Test']\n",
            "Found 308 validated image filenames.\n",
            "Found 103 validated image filenames.\n",
            "Found 103 validated image filenames.\n"
          ],
          "name": "stdout"
        }
      ]
    },
    {
      "cell_type": "code",
      "metadata": {
        "id": "78hHcT2m9wjO"
      },
      "source": [
        "#Grid search\n",
        "params = {'nbr_filters_hid1': [64],\n",
        "                'nbr_filters_hid2': [24, 32, 64, 128],\n",
        "                'drop_rate': list(np.linspace(0,0.5,6).astype('float32')),#\n",
        "                'kernel_initializer':['glorot_uniform'],\n",
        "                'lambda_': list(np.linspace(1e-5,1e-1,5).astype('float32')) + [0] ,\n",
        "                'nmb_rows': [nmb_rows],\n",
        "                'nmb_columns':[nmb_columns]  \n",
        "                }\n",
        "\n",
        "import talos as ta\n",
        "from talos.utils.gpu_utils import parallel_gpu_jobs\n",
        "\n",
        "parallel_gpu_jobs(allow_growth = True, fraction = 0.95)\n",
        "scan_results = ta.Scan(train_generator, None, params,  CreateFit_eng_ameri, experiment_name = file_name,\n",
        "                       x_val=valid_generator, y_val = 0)"
      ],
      "execution_count": null,
      "outputs": []
    },
    {
      "cell_type": "code",
      "metadata": {
        "id": "jWKatil7QWi0",
        "colab": {
          "base_uri": "https://localhost:8080/",
          "height": 952
        },
        "outputId": "1ebf382e-33e2-4800-a2d3-d7f78bff4f41"
      },
      "source": [
        "#Grid search\n",
        "params = {'nbr_filters_hid1': [64],\n",
        "                'nbr_filters_hid2': [24],\n",
        "                'drop_rate': [0.2],#\n",
        "                'kernel_initializer':['glorot_uniform'],\n",
        "                'lambda_':  [1e-1] ,\n",
        "                'nmb_rows': [nmb_rows],\n",
        "                'nmb_columns':[nmb_columns]}\n",
        "\n",
        "import talos as ta\n",
        "from talos.utils.gpu_utils import parallel_gpu_jobs\n",
        "\n",
        "parallel_gpu_jobs(allow_growth = True, fraction = 0.95)\n",
        "scan_results = ta.Scan(train_generator, None, params,  CreateFit_eng_ameri, experiment_name = 'plot',\n",
        "                       x_val=valid_generator, y_val = 0)"
      ],
      "execution_count": null,
      "outputs": [
        {
          "output_type": "stream",
          "text": [
            "\n",
            "  0%|          | 0/1 [00:00<?, ?it/s]\u001b[A"
          ],
          "name": "stderr"
        },
        {
          "output_type": "stream",
          "text": [
            "WARNING:tensorflow:sample_weight modes were coerced from\n",
            "  ...\n",
            "    to  \n",
            "  ['...']\n"
          ],
          "name": "stdout"
        },
        {
          "output_type": "stream",
          "text": [
            "WARNING:tensorflow:sample_weight modes were coerced from\n",
            "  ...\n",
            "    to  \n",
            "  ['...']\n"
          ],
          "name": "stderr"
        },
        {
          "output_type": "stream",
          "text": [
            "WARNING:tensorflow:sample_weight modes were coerced from\n",
            "  ...\n",
            "    to  \n",
            "  ['...']\n"
          ],
          "name": "stdout"
        },
        {
          "output_type": "stream",
          "text": [
            "WARNING:tensorflow:sample_weight modes were coerced from\n",
            "  ...\n",
            "    to  \n",
            "  ['...']\n"
          ],
          "name": "stderr"
        },
        {
          "output_type": "stream",
          "text": [
            "Restoring model weights from the end of the best epoch.\n",
            "Epoch 00017: early stopping\n"
          ],
          "name": "stdout"
        },
        {
          "output_type": "display_data",
          "data": {
            "image/png": "[encoded data removed]",
            "text/plain": [
              "<Figure size 1440x720 with 1 Axes>"
            ]
          },
          "metadata": {
            "tags": [],
            "needs_background": "light"
          }
        },
        {
          "output_type": "stream",
          "text": [
            "\n",
            "100%|██████████| 1/1 [08:47<00:00, 527.47s/it]\n"
          ],
          "name": "stderr"
        }
      ]
    },
    {
      "cell_type": "code",
      "metadata": {
        "id": "qaIcx23JQWsH"
      },
      "source": [
        "#Grid search\n",
        "params = {'nbr_filters_hid1': [64],\n",
        "                'nbr_filters_hid2': [24],\n",
        "                'drop_rate': [0.2],#\n",
        "                'kernel_initializer':['glorot_uniform'],\n",
        "                'lambda_':  [1e-1] ,\n",
        "                'nmb_rows': [nmb_rows],\n",
        "                'nmb_columns':[nmb_columns]}\n",
        "\n",
        "\n",
        "import talos as ta\n",
        "from talos.utils.gpu_utils import parallel_gpu_jobs\n",
        "\n",
        "for i in range (20):\n",
        "\n",
        "  parallel_gpu_jobs(allow_growth = True, fraction = 0.95)\n",
        "  scan_results = ta.Scan(train_generator, None, params,  CreateFit_eng_ameri, experiment_name = 'drive/My Drive/CNN rms results/session'+str(session)+'Val',\n",
        "                        x_val=valid_generator, y_val = 0)"
      ],
      "execution_count": null,
      "outputs": []
    },
    {
      "cell_type": "code",
      "metadata": {
        "id": "TIBsGg8rAJTY"
      },
      "source": [
        "path='/content/drive/Shared drives/Nikolina/Results/RMS images - intra-session/session'+str(session)+'.csv'\n",
        "results=pd.read_csv(path) "
      ],
      "execution_count": null,
      "outputs": []
    },
    {
      "cell_type": "code",
      "metadata": {
        "id": "pmizDlD-nL2X",
        "colab": {
          "base_uri": "https://localhost:8080/",
          "height": 86
        },
        "outputId": "0c6cffc6-101a-4b8d-bbe3-69944a815e62"
      },
      "source": [
        "val_acc=results.val_accuracy\n",
        "print(max(val_acc))\n",
        "best=np.where(val_acc==max(val_acc))[0]\n",
        "print(best)\n",
        "print(val_acc[best])"
      ],
      "execution_count": null,
      "outputs": [
        {
          "output_type": "stream",
          "text": [
            "0.19417475\n",
            "[64]\n",
            "64    0.194175\n",
            "Name: val_accuracy, dtype: float64\n"
          ],
          "name": "stdout"
        }
      ]
    },
    {
      "cell_type": "code",
      "metadata": {
        "id": "wNY_ZKNcnPk6"
      },
      "source": [
        "predictions=[]\n",
        "test_acc=[]\n",
        "valid_acc=[]\n",
        "train_acc=[]\n",
        "\n",
        "l=1e-1\n",
        "dr=0.2\n",
        "h1=64\n",
        "h2=24\n",
        "\n",
        "model = create_CNN_Ameri_like_model(nmb_rows,nmb_columns,dim_labels = 9,lambda_ = l, drop_rate = dr, nbr_hid1 = h1, nbr_hid2 = h2)\n",
        "# Defining the callbacks we want to use\n",
        "lrate_schedule = LearningRateScheduler(step_decay)\n",
        "early_stopper = EarlyStopping(monitor='val_loss', min_delta=0, patience=15, verbose=1, mode='auto', baseline=None, restore_best_weights=True)\n",
        "callbacks_list = [lrate_schedule,early_stopper]\n",
        "\n",
        "for i in range(20):\n",
        "  print('\\nTraining, iteration '+ str(i))\n",
        "  h= model.fit(train_generator, epochs = 50, verbose = 0, callbacks = callbacks_list, validation_data = valid_generator)#50 epochs\n",
        "  prediction = model.predict(test_generator, verbose = 0)\n",
        "  test_scores = model.evaluate(test_generator, verbose = 0)\n",
        "  \n",
        "  print('Train accuracy:' , h.history['accuracy'][-1])\n",
        "  print('Test accuracy:',test_scores[-1])\n",
        "  print('Validation accuracy:',h.history['val_accuracy'][-1])\n",
        "\n",
        "  predictions.append(prediction)\n",
        "\n",
        "  test_acc.append(test_scores[-1])\n",
        "  train_acc.append(h.history['accuracy'][-1])\n",
        "  valid_acc.append(h.history['val_accuracy'][-1])"
      ],
      "execution_count": null,
      "outputs": []
    },
    {
      "cell_type": "code",
      "metadata": {
        "id": "VeiVIVdVnZG-",
        "colab": {
          "base_uri": "https://localhost:8080/",
          "height": 69
        },
        "outputId": "4a37efb9-8ee4-4591-a455-3a3542772e1a"
      },
      "source": [
        "print('train accuracy: '+ str(np.mean(train_acc)) + '+-' + str(np.std(train_acc)))\n",
        "print('validation accuracy: '+ str(np.mean(valid_acc)) + '+-' + str(np.std(valid_acc)))\n",
        "print('test accuracy: '+ str(np.mean(test_acc)) + '+-' + str(np.std(test_acc)))"
      ],
      "execution_count": null,
      "outputs": [
        {
          "output_type": "stream",
          "text": [
            "train accuracy: 0.1331169+-1.4901161e-08\n",
            "validation accuracy: 0.05825243+-3.7252903e-09\n",
            "test accuracy: 0.087378636+-7.450581e-09\n"
          ],
          "name": "stdout"
        }
      ]
    },
    {
      "cell_type": "code",
      "metadata": {
        "id": "bEVR95dcid86",
        "colab": {
          "base_uri": "https://localhost:8080/",
          "height": 86
        },
        "outputId": "85044d5c-51c7-4e93-c4ba-502f63967fff"
      },
      "source": [
        "out_test=list(np.where(test_generator[0][1]==1)[1])\n",
        "for gen_ind in np.arange(2,len(test_generator)+1,1):\n",
        "  n=(gen_ind-1)*bs\n",
        "  out_test+=list(np.where(test_generator[gen_ind-1][1]==1)[1])\n"
      ],
      "execution_count": null,
      "outputs": [
        {
          "output_type": "stream",
          "text": [
            "2\n",
            "3\n",
            "4\n",
            "(103,)\n"
          ],
          "name": "stdout"
        }
      ]
    }
  ]
}