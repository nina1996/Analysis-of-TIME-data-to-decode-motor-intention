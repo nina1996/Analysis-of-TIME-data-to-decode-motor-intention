{
  "nbformat": 4,
  "nbformat_minor": 0,
  "metadata": {
    "colab": {
      "name": "classification_gs_inter_session.ipynb",
      "provenance": [],
      "collapsed_sections": []
    },
    "kernelspec": {
      "name": "python3",
      "display_name": "Python 3"
    },
    "accelerator": "GPU"
  },
  "cells": [
    {
      "cell_type": "markdown",
      "metadata": {
        "id": "5G1R3k5zyNmH"
      },
      "source": [
        "\n",
        "This script was used to perform grid search for inter-session RMS.\n",
        "\n",
        "________________________________________________________________________________\n",
        "Model consists of 6 fully-connected layers and one drop-out layer.<br>\n",
        "Adam optimizer with initial learning rate=0.01 and exponential decay is used. Learning rate=0.1, 0.001 and step decay are also tested, but as they seemed to perform worse, they are excluded from GS.<br>\n",
        "__________________\n",
        "Number of nodes in all the layers, activation function and drop rate are grid search parameters:<br>\n",
        "\n",
        "p = {'activation':['relu', 'elu'],<br>\n",
        "     'lr': [0.01],# \"RMSprop\"],<br>\n",
        "     '1_hidden_layer':  [32, 64],<br>\n",
        "     '2_hidden_layer':  [64, 80] ,<br>\n",
        "     '3_hidden_layer':  [64, 80],<br>\n",
        "     '4_hidden_layer':  [64, 80, 128, 256],<br>\n",
        "     '5_hidden_layer':  [64, 80, 128, 256],<br>\n",
        "     '6_hidden_layer':  [64, 80, 128, 256],<br>\n",
        "     'drop_rate': [0, 0.1, 0.2] ,<br>\n",
        "     'epochs': [100]}"
      ]
    },
    {
      "cell_type": "code",
      "metadata": {
        "id": "ibDG9XA7-CCS"
      },
      "source": [
        "from google.colab import drive\n",
        "drive.mount('/content/drive')"
      ],
      "execution_count": null,
      "outputs": []
    },
    {
      "cell_type": "code",
      "metadata": {
        "id": "6W0SLlJu-ZqS"
      },
      "source": [
        "!pip uninstall tensorflow"
      ],
      "execution_count": null,
      "outputs": []
    },
    {
      "cell_type": "code",
      "metadata": {
        "id": "X1IS6lqH-aGk"
      },
      "source": [
        "!pip install tensorflow==2.1"
      ],
      "execution_count": null,
      "outputs": []
    },
    {
      "cell_type": "code",
      "metadata": {
        "id": "GBjT4t5_ANCl"
      },
      "source": [
        "import tensorflow as tf\n",
        "print(tf.__version__)"
      ],
      "execution_count": null,
      "outputs": []
    },
    {
      "cell_type": "code",
      "metadata": {
        "id": "EkthMoy2FP6H"
      },
      "source": [
        "!pip install git+https://github.com/autonomio/talos@1.0"
      ],
      "execution_count": null,
      "outputs": []
    },
    {
      "cell_type": "code",
      "metadata": {
        "id": "zjRY3ruwBbSD"
      },
      "source": [
        "import talos as ta\n",
        "print(ta.__version__)"
      ],
      "execution_count": null,
      "outputs": []
    },
    {
      "cell_type": "code",
      "metadata": {
        "id": "dUhEMum8-bir",
        "colab": {
          "base_uri": "https://localhost:8080/",
          "height": 34
        },
        "outputId": "2e197a55-a769-40bd-81ad-803fb56e8aa2"
      },
      "source": [
        "import keras\n",
        "from keras.models import Sequential\n",
        "from keras.layers.recurrent import LSTM\n",
        "from keras.layers.normalization import BatchNormalization\n",
        "from keras.layers.core import Activation\n",
        "from keras.layers.core import Dropout\n",
        "from keras.layers.core import Dense\n",
        "from keras.layers import Flatten\n",
        "from keras.layers import Input\n",
        "from keras.layers import Embedding\n",
        "from keras.models import Model\n",
        "\n",
        "import pandas as pd\n",
        "import numpy as np\n",
        "import matplotlib.pyplot as plt\n",
        "from sklearn.preprocessing import MinMaxScaler\n",
        "\n",
        "import keras\n",
        "from keras.models import Sequential\n",
        "from keras.layers import LSTM, Dense, Dropout, Masking, Embedding\n",
        "import tensorflow as tf\n",
        "from sklearn.model_selection import train_test_split\n",
        "import math"
      ],
      "execution_count": null,
      "outputs": [
        {
          "output_type": "stream",
          "text": [
            "Using TensorFlow backend.\n"
          ],
          "name": "stderr"
        }
      ]
    },
    {
      "cell_type": "markdown",
      "metadata": {
        "id": "MlHMmPJ_yviS"
      },
      "source": [
        "session = False means inter-session\n",
        "random_selection if we choose randomly selected sets, but if we want to use regulary splitted ones, then this should be false."
      ]
    },
    {
      "cell_type": "code",
      "metadata": {
        "id": "Mcl-rwmi-Gon",
        "colab": {
          "base_uri": "https://localhost:8080/",
          "height": 54
        },
        "outputId": "b88d589e-74d1-41ba-e5e2-0c7f9a22ce45"
      },
      "source": [
        "session=False\n",
        "reduced=False\n",
        "random_selection=True\n",
        "if session: \n",
        "  if reduced:\n",
        "    folder='/content/drive/Shared drives/Nikolina/RMS data/1D features/Intra-session/RMS_features_200ms_s'+str(session)\n",
        "  else:\n",
        "    folder='/content/drive/Shared drives/Nikolina/RMS data/1D features/Intra-session/RMS_features_1s_s'+str(session)\n",
        "    \n",
        "  paths=[folder+'_train.csv',folder+'_valid.csv',folder+'_test.csv']\n",
        "  grid_search_res='drive/Shared drives/Nikolina/29.5. Results/gs_session'+str(session)\n",
        "else:\n",
        "  paths=['','','']\n",
        "  if random_selection:\n",
        "    if reduced:\n",
        "      paths[0]='/content/drive/Shared drives/Nikolina/RMS data/1D features/Inter-session/RMS_train_rs_200ms.csv'\n",
        "      paths[1]='/content/drive/Shared drives/Nikolina/RMS data/1D features/Inter-session/RMS_valid_rs_200ms.csv'\n",
        "      paths[2]='/content/drive/Shared drives/Nikolina/RMS data/1D features/Inter-session/RMS_test_rs_200ms.csv'\n",
        "      \n",
        "    else:\n",
        "      paths[0]='/content/drive/Shared drives/Nikolina/RMS data/1D features/Inter-session/RMS_train_rs_1s.csv'\n",
        "      paths[1]='/content/drive/Shared drives/Nikolina/RMS data/1D features/Inter-session/RMS_valid_rs_1s.csv'\n",
        "      paths[2]='/content/drive/Shared drives/Nikolina/RMS data/1D features/Inter-session/RMS_test_rs_1s.csv'\n",
        "  else:\n",
        "    if reduced:\n",
        "      paths[0]='/content/drive/Shared drives/Nikolina/RMS data/1D features/Inter-session/RMS_train_200ms.csv'\n",
        "      paths[1]='/content/drive/Shared drives/Nikolina/RMS data/1D features/Inter-session/RMS_valid_200ms.csv'\n",
        "      paths[2]='/content/drive/Shared drives/Nikolina/RMS data/1D features/Inter-session/RMS_test_200ms.csv'\n",
        "      \n",
        "    else:\n",
        "      paths[0]='/content/drive/Shared drives/Nikolina/RMS data/1D features/Inter-session/RMS_train_1s.csv'\n",
        "      paths[1]='/content/drive/Shared drives/Nikolina/RMS data/1D features/Inter-session/RMS_valid_1s.csv'\n",
        "      paths[2]='/content/drive/Shared drives/Nikolina/RMS data/1D features/Inter-session/RMS_test_1s.csv'\n",
        "    #grid_search_res='drive/Shared drives/Nikolina/Results/RMS - inter-session/NO random selection'\n",
        "\n",
        "print(paths)\n"
      ],
      "execution_count": null,
      "outputs": [
        {
          "output_type": "stream",
          "text": [
            "['/content/drive/Shared drives/Nikolina/RMS data/1D features/Inter-session/RMS_train_rs_1s.csv', '/content/drive/Shared drives/Nikolina/RMS data/1D features/Inter-session/RMS_valid_rs_1s.csv', '/content/drive/Shared drives/Nikolina/RMS data/1D features/Inter-session/RMS_test_rs_1s.csv']\n"
          ],
          "name": "stdout"
        }
      ]
    },
    {
      "cell_type": "markdown",
      "metadata": {
        "id": "gX3wLd3jzFWp"
      },
      "source": [
        "Read the data."
      ]
    },
    {
      "cell_type": "code",
      "metadata": {
        "id": "PH7BnsT4-gYs",
        "colab": {
          "base_uri": "https://localhost:8080/",
          "height": 69
        },
        "outputId": "969fdecd-1756-4167-bc23-621433eaa4ba"
      },
      "source": [
        "e=65\n",
        "ch=np.arange(0,56,1)\n",
        "df = pd.read_csv(paths[0])\n",
        "in_train=df.values[ch,:].T\n",
        "out_train=df.values[56:e,:].T\n",
        "\n",
        "#valid\n",
        "df = pd.read_csv(paths[1])\n",
        "in_valid=df.values[ch,:].T\n",
        "out_valid=df.values[56:e,:].T\n",
        "\n",
        "#test\n",
        "df = pd.read_csv(paths[2])\n",
        "in_test=df.values[ch,:].T\n",
        "out_test=df.values[56:e,:].T\n",
        "\n",
        "print('train data: ', np.shape(in_train),np.shape(out_train))\n",
        "print('validation data: ', np.shape(in_valid),np.shape(out_valid))\n",
        "print('test data: ', np.shape(in_test),np.shape(out_test))"
      ],
      "execution_count": null,
      "outputs": [
        {
          "output_type": "stream",
          "text": [
            "train data:  (10512, 56) (10512, 9)\n",
            "validation data:  (3504, 56) (3504, 9)\n",
            "test data:  (3504, 56) (3504, 9)\n"
          ],
          "name": "stdout"
        }
      ]
    },
    {
      "cell_type": "markdown",
      "metadata": {
        "id": "1UU5hbgpzG9g"
      },
      "source": [
        "Define the model, lr scheduler and function for plotting the best resuls."
      ]
    },
    {
      "cell_type": "code",
      "metadata": {
        "id": "kzagjtbl-t88"
      },
      "source": [
        "import tensorflow as tf\n",
        "from tensorflow.keras.callbacks import LearningRateScheduler, EarlyStopping\n",
        "\n",
        "def evaluation(prediction, desired_out, title=None, save=False, path=None,limit=None):\n",
        "  \"\"\"For a given predicted labels and ground truth, plots both of them.\n",
        "  If set is large, use limit  (vector of two indeices) - boundaries to plot subset of the set. \n",
        "  f save, define also path as a folder and filename.\"\"\"\n",
        "  predicted_class=[]\n",
        "  gt=[]\n",
        "\n",
        "  for sample in range(np.shape(prediction)[0]):\n",
        "    predicted_class.append(np.argmax(prediction[sample,:]))\n",
        "    gt.append(np.argmax(desired_out[sample,:]))\n",
        "\n",
        "  plt.figure(figsize=(20,10))\n",
        "  if limit:\n",
        "    plt.scatter(np.arange(0,limit[1]-limit[0],1),np.array(predicted_class[limit[0]:limit[1]])+1,color= '#E2A76F',linewidths=9)#'#FFA500'\n",
        "    plt.scatter(np.arange(0,limit[1]-limit[0],1),np.array(gt[limit[0]:limit[1]])+1,color='#26292c',marker='*',linewidths=5)\n",
        "  else:\n",
        "    plt.scatter(np.arange(0,np.shape(prediction)[0],1),np.array(predicted_class)+1,color='#355C7D',linewidths=9)\n",
        "    plt.scatter(np.arange(0,np.shape(prediction)[0],1),np.array(gt)+1,color='#FFA500',marker='*',linewidths=4)\n",
        "\n",
        "  plt.xlabel('sample',fontsize=20)\n",
        "  plt.ylabel('class',fontsize=20)\n",
        "  if title:\n",
        "    plt.title(title)\n",
        "  plt.legend(('predicted class','ground truth'),prop={'size': 27}, bbox_to_anchor=(0.7,0.648))\n",
        "\n",
        "  if save:\n",
        "    plt.savefig(path)\n",
        "  plt.show()\n",
        "\n",
        "\n",
        "def scheduler(epoch, lr):\n",
        "  if epoch < 10:\n",
        "    return lr\n",
        "  else:\n",
        "    return lr * tf.math.exp(-0.1)\n",
        "\n",
        "\"\"\"\n",
        "def step_decay(epoch,lrate):\n",
        "   initial_lrate = 0.01\n",
        "   drop = 0.25\n",
        "   epochs_drop = 10.0\n",
        "   lrate = initial_lrate * math.pow(drop,  \n",
        "           math.floor((1+epoch)/epochs_drop))\n",
        "   return lrate\n",
        "\"\"\"\n",
        "\n",
        "def create_mlp(X_train, y_train, X_val, y_val,params):\n",
        "  dim=56\n",
        "  model = Sequential()\n",
        "\n",
        "  # first FC\n",
        "  model.add(Dense(params['1_hidden_layer'], input_dim=dim, activation=params['activation']))\n",
        "\n",
        "  # second FC\n",
        "  model.add(Dense(params['2_hidden_layer'], \n",
        "                    activation=params['activation']))\n",
        "  \n",
        "  # third FC\n",
        "  model.add(Dense(params['3_hidden_layer'], \n",
        "                    activation=params['activation']))\n",
        "  \n",
        "  # fourth FC\n",
        "  model.add(Dense(params['4_hidden_layer'], \n",
        "                    activation=params['activation']))\n",
        "  \n",
        "  # fifth FC\n",
        "  model.add(Dense(params['5_hidden_layer'], \n",
        "                  activation=params['activation']))\n",
        "  \n",
        "  # sixth FC\n",
        "  model.add(Dense(params['6_hidden_layer'], \n",
        "                  activation=params['activation']))\n",
        "  \n",
        "  # droput\n",
        "  model.add(Dropout(params['drop_rate']))\n",
        "\n",
        "  #output\n",
        "  model.add(Dense(9, activation=\"softmax\"))\n",
        "  \n",
        "  # optimizer - Adam\n",
        "  optim = keras.optimizers.Adam(learning_rate=params['lr'], beta_1=0.9, beta_2=0.99, epsilon=1e-7)\n",
        "  model.compile(optimizer=optim, \n",
        "                loss='categorical_crossentropy',\n",
        "                metrics=['accuracy'])\n",
        "  \n",
        "  # define callbacks\n",
        "  lrate_schedule = tf.keras.callbacks.LearningRateScheduler(scheduler)\n",
        "  early_stopper = EarlyStopping(monitor='val_loss', min_delta=0, patience=40, verbose=0, mode='auto', baseline=None, restore_best_weights=True)\n",
        "  callbacks_list = [early_stopper,lrate_schedule]\n",
        "\n",
        "  # fit\n",
        "  history = model.fit(X_train, \n",
        "                  y_train,\n",
        "                  epochs=params['epochs'],\n",
        "                  verbose=0,\n",
        "                  validation_data=[X_val, y_val],\n",
        "                  callbacks=callbacks_list,\n",
        "                  batch_size=64)\n",
        "  \n",
        "\n",
        "  return history, model"
      ],
      "execution_count": null,
      "outputs": []
    },
    {
      "cell_type": "markdown",
      "metadata": {
        "id": "_OvTQ3w-zhel"
      },
      "source": [
        "Define GS parameters."
      ]
    },
    {
      "cell_type": "code",
      "metadata": {
        "id": "gSGdZC1EV3nG"
      },
      "source": [
        "p = {'activation':['relu', 'elu'],\n",
        "     'lr': [0.01],# \"RMSprop\"],\n",
        "     '1_hidden_layer':  [32, 64],\n",
        "     '2_hidden_layer':  [64, 80] ,\n",
        "     '3_hidden_layer':  [64, 80],\n",
        "     '4_hidden_layer':  [64, 80, 128, 256],\n",
        "     '5_hidden_layer':  [64, 80, 128, 256],\n",
        "     '6_hidden_layer':  [64, 80, 128, 256],\n",
        "     'drop_rate': [0, 0.1, 0.2] ,\n",
        "     'epochs': [100]}"
      ],
      "execution_count": null,
      "outputs": []
    },
    {
      "cell_type": "markdown",
      "metadata": {
        "id": "_odQbNrXzjmQ"
      },
      "source": [
        "Perform GS."
      ]
    },
    {
      "cell_type": "code",
      "metadata": {
        "id": "cjcEo5EQWtY_",
        "colab": {
          "base_uri": "https://localhost:8080/",
          "height": 33
        },
        "outputId": "a67aedcd-19e6-407b-d572-09a26728f83b"
      },
      "source": [
        "from talos import Scan\n",
        "\n",
        "h = Scan(in_train, \n",
        "         out_train, \n",
        "         model=create_mlp, \n",
        "         params=p,\n",
        "         x_val=in_valid,\n",
        "         y_val=out_valid,\n",
        "         experiment_name = grid_search_res)"
      ],
      "execution_count": null,
      "outputs": [
        {
          "output_type": "stream",
          "text": [
            "100%|██████████| 216/216 [1:48:58<00:00, 30.27s/it]\n"
          ],
          "name": "stderr"
        }
      ]
    },
    {
      "cell_type": "code",
      "metadata": {
        "id": "h1oqV75XXGb3"
      },
      "source": [
        "if random_selection:\n",
        "  path='/content/drive/Shared drives/Nikolina/Results/RMS - inter-session/results_random_split.csv'\n",
        "else:\n",
        "  path='/content/drive/Shared drives/Nikolina/Results/RMS - inter-session/results_regular_split.csv'\n",
        "results=pd.read_csv(path) "
      ],
      "execution_count": null,
      "outputs": []
    },
    {
      "cell_type": "code",
      "metadata": {
        "id": "b2LJd01nHoQn",
        "colab": {
          "base_uri": "https://localhost:8080/",
          "height": 86
        },
        "outputId": "5306af77-2dc7-446f-ed2d-c62265831f54"
      },
      "source": [
        "val_acc=results.val_accuracy\n",
        "print(max(val_acc))\n",
        "best=np.where(val_acc==max(val_acc))[0]\n",
        "print(best)\n",
        "print(val_acc[best])"
      ],
      "execution_count": null,
      "outputs": [
        {
          "output_type": "stream",
          "text": [
            "0.6640982031822205\n",
            "[2956]\n",
            "2956    0.664098\n",
            "Name: val_accuracy, dtype: float64\n"
          ],
          "name": "stdout"
        }
      ]
    },
    {
      "cell_type": "code",
      "metadata": {
        "id": "9xbo4FnrM1Tz"
      },
      "source": [
        "#e=regular split\n",
        "p = {'activation':'relu',\n",
        "     'lr': 0.01,# \"RMSprop\"],\n",
        "     '1_hidden_layer':  32,\n",
        "     '2_hidden_layer':  80 ,\n",
        "     '3_hidden_layer':  80,\n",
        "     '4_hidden_layer':  64,\n",
        "     '5_hidden_layer':  80,\n",
        "     '6_hidden_layer':  128,\n",
        "     'drop_rate': 0.2 ,\n",
        "     'epochs': 100}"
      ],
      "execution_count": null,
      "outputs": []
    },
    {
      "cell_type": "code",
      "metadata": {
        "id": "ssORm_bi1dhK"
      },
      "source": [
        "#e=random split\n",
        "p = {'activation':'elu',\n",
        "     'lr': 0.01,# \"RMSprop\"],\n",
        "     '1_hidden_layer':  64,\n",
        "     '2_hidden_layer':  80 ,\n",
        "     '3_hidden_layer':  80,\n",
        "     '4_hidden_layer':  128,\n",
        "     '5_hidden_layer':  128,\n",
        "     '6_hidden_layer':  256,\n",
        "     'drop_rate': 0.2 ,\n",
        "     'epochs': 100}"
      ],
      "execution_count": null,
      "outputs": []
    },
    {
      "cell_type": "code",
      "metadata": {
        "id": "zaUUPoTwM1qd",
        "colab": {
          "base_uri": "https://localhost:8080/",
          "height": 1000
        },
        "outputId": "2f1e5205-8f9d-4df5-d377-782c8eae4cab"
      },
      "source": [
        "predictions=[]\n",
        "test_acc=[]\n",
        "valid_acc=[]\n",
        "train_acc=[]\n",
        "\n",
        "for i in range(100):\n",
        "  print('\\nTraining, iteration '+ str(i))\n",
        "  h,model=create_mlp(in_train, out_train, in_valid, out_valid,p)\n",
        "  prediction = model.predict(in_test)\n",
        "  test_scores = model.evaluate(in_test, out_test, verbose = 0, batch_size=64)\n",
        "  \n",
        "  print('Train accuracy:' , h.history['accuracy'][-1])\n",
        "  print('Test accuracy:',test_scores[-1])\n",
        "  print('Validation accuracy:',h.history['val_accuracy'][-1])\n",
        "\n",
        "  predictions.append(prediction)\n",
        "\n",
        "  test_acc.append(test_scores[-1])\n",
        "  train_acc.append( h.history['accuracy'][-1])\n",
        "  valid_acc.append(h.history['val_accuracy'][-1])"
      ],
      "execution_count": null,
      "outputs": [
        {
          "output_type": "stream",
          "text": [
            "\n",
            "Training, iteration 0\n",
            "Train accuracy: 0.786054\n",
            "Test accuracy: 0.634132444858551\n",
            "Validation accuracy: 0.6352739930152893\n",
            "\n",
            "Training, iteration 1\n",
            "Train accuracy: 0.8346651\n",
            "Test accuracy: 0.6389840245246887\n",
            "Validation accuracy: 0.6595319509506226\n",
            "\n",
            "Training, iteration 2\n",
            "Train accuracy: 0.8296233\n",
            "Test accuracy: 0.5993150472640991\n",
            "Validation accuracy: 0.6438356041908264\n",
            "\n",
            "Training, iteration 3\n",
            "Train accuracy: 0.8501712\n",
            "Test accuracy: 0.6272830963134766\n",
            "Validation accuracy: 0.657248854637146\n",
            "\n",
            "Training, iteration 4\n",
            "Train accuracy: 0.7986111\n",
            "Test accuracy: 0.6372717022895813\n",
            "Validation accuracy: 0.6484017968177795\n",
            "\n",
            "Training, iteration 5\n",
            "Train accuracy: 0.80878997\n",
            "Test accuracy: 0.6175799369812012\n",
            "Validation accuracy: 0.6529680490493774\n",
            "\n",
            "Training, iteration 6\n",
            "Train accuracy: 0.83723366\n",
            "Test accuracy: 0.6312785148620605\n",
            "Validation accuracy: 0.6486872434616089\n",
            "\n",
            "Training, iteration 7\n",
            "Train accuracy: 0.8270548\n",
            "Test accuracy: 0.6124429106712341\n",
            "Validation accuracy: 0.6432648301124573\n",
            "\n",
            "Training, iteration 8\n",
            "Train accuracy: 0.84075344\n",
            "Test accuracy: 0.6013127565383911\n",
            "Validation accuracy: 0.6489726305007935\n",
            "\n",
            "Training, iteration 9\n",
            "Train accuracy: 0.83571154\n",
            "Test accuracy: 0.6130136847496033\n",
            "Validation accuracy: 0.6589611768722534\n",
            "\n",
            "Training, iteration 10\n",
            "Train accuracy: 0.8325723\n",
            "Test accuracy: 0.6304223537445068\n",
            "Validation accuracy: 0.655251145362854\n",
            "\n",
            "Training, iteration 11\n",
            "Train accuracy: 0.83647263\n",
            "Test accuracy: 0.6150113940238953\n",
            "Validation accuracy: 0.653253436088562\n",
            "\n",
            "Training, iteration 12\n",
            "Train accuracy: 0.8386606\n",
            "Test accuracy: 0.6147260069847107\n",
            "Validation accuracy: 0.6549657583236694\n",
            "\n",
            "Training, iteration 13\n",
            "Train accuracy: 0.8302892\n",
            "Test accuracy: 0.6335616707801819\n",
            "Validation accuracy: 0.644120991230011\n",
            "\n",
            "Training, iteration 14\n",
            "Train accuracy: 0.8435122\n",
            "Test accuracy: 0.6275684833526611\n",
            "Validation accuracy: 0.657248854637146\n",
            "\n",
            "Training, iteration 15\n",
            "Train accuracy: 0.8472222\n",
            "Test accuracy: 0.6258561611175537\n",
            "Validation accuracy: 0.655251145362854\n",
            "\n",
            "Training, iteration 16\n",
            "Train accuracy: 0.8369483\n",
            "Test accuracy: 0.6050228476524353\n",
            "Validation accuracy: 0.6464040875434875\n",
            "\n",
            "Training, iteration 17\n",
            "Train accuracy: 0.818398\n",
            "Test accuracy: 0.5996004343032837\n",
            "Validation accuracy: 0.6307077407836914\n",
            "\n",
            "Training, iteration 18\n",
            "Train accuracy: 0.8223935\n",
            "Test accuracy: 0.6027397513389587\n",
            "Validation accuracy: 0.6660959124565125\n",
            "\n",
            "Training, iteration 19\n",
            "Train accuracy: 0.84836376\n",
            "Test accuracy: 0.6375570893287659\n",
            "Validation accuracy: 0.6746575236320496\n",
            "\n",
            "Training, iteration 20\n",
            "Train accuracy: 0.79613775\n",
            "Test accuracy: 0.6224315166473389\n",
            "Validation accuracy: 0.6535388231277466\n",
            "\n",
            "Training, iteration 21\n",
            "Train accuracy: 0.83713853\n",
            "Test accuracy: 0.609874427318573\n",
            "Validation accuracy: 0.6449771523475647\n",
            "\n",
            "Training, iteration 22\n",
            "Train accuracy: 0.8260084\n",
            "Test accuracy: 0.6161529421806335\n",
            "Validation accuracy: 0.6589611768722534\n",
            "\n",
            "Training, iteration 23\n",
            "Train accuracy: 0.82020545\n",
            "Test accuracy: 0.5901826620101929\n",
            "Validation accuracy: 0.6335616707801819\n",
            "\n",
            "Training, iteration 24\n",
            "Train accuracy: 0.851503\n",
            "Test accuracy: 0.6275684833526611\n",
            "Validation accuracy: 0.6649543642997742\n",
            "\n",
            "Training, iteration 25\n",
            "Train accuracy: 0.8303843\n",
            "Test accuracy: 0.6201484203338623\n",
            "Validation accuracy: 0.655251145362854\n",
            "\n",
            "Training, iteration 26\n",
            "Train accuracy: 0.83380896\n",
            "Test accuracy: 0.6312785148620605\n",
            "Validation accuracy: 0.6578196287155151\n",
            "\n",
            "Training, iteration 27\n",
            "Train accuracy: 0.82201296\n",
            "Test accuracy: 0.6438356041908264\n",
            "Validation accuracy: 0.6581050157546997\n",
            "\n",
            "Training, iteration 28\n",
            "Train accuracy: 0.83276254\n",
            "Test accuracy: 0.6258561611175537\n",
            "Validation accuracy: 0.6489726305007935\n",
            "\n",
            "Training, iteration 29\n",
            "Train accuracy: 0.83980215\n",
            "Test accuracy: 0.6389840245246887\n",
            "Validation accuracy: 0.6698059439659119\n",
            "\n",
            "Training, iteration 30\n",
            "Train accuracy: 0.838946\n",
            "Test accuracy: 0.6429794430732727\n",
            "Validation accuracy: 0.6561073064804077\n",
            "\n",
            "Training, iteration 31\n",
            "Train accuracy: 0.8349505\n",
            "Test accuracy: 0.6315639019012451\n",
            "Validation accuracy: 0.6635273694992065\n",
            "\n",
            "Training, iteration 32\n",
            "Train accuracy: 0.84503424\n",
            "Test accuracy: 0.6375570893287659\n",
            "Validation accuracy: 0.6589611768722534\n",
            "\n",
            "Training, iteration 33\n",
            "Train accuracy: 0.80584097\n",
            "Test accuracy: 0.6287100315093994\n",
            "Validation accuracy: 0.6503995656967163\n",
            "\n",
            "Training, iteration 34\n",
            "Train accuracy: 0.83818495\n",
            "Test accuracy: 0.6275684833526611\n",
            "Validation accuracy: 0.6541095972061157\n",
            "\n",
            "Training, iteration 35\n",
            "Train accuracy: 0.81135845\n",
            "Test accuracy: 0.6204338073730469\n",
            "Validation accuracy: 0.6521118879318237\n",
            "\n",
            "Training, iteration 36\n",
            "Train accuracy: 0.82496196\n",
            "Test accuracy: 0.6184360980987549\n",
            "Validation accuracy: 0.6495434045791626\n",
            "\n",
            "Training, iteration 37\n",
            "Train accuracy: 0.8458904\n",
            "Test accuracy: 0.6298515796661377\n",
            "Validation accuracy: 0.6555365324020386\n",
            "\n",
            "Training, iteration 38\n",
            "Train accuracy: 0.8270548\n",
            "Test accuracy: 0.6198630332946777\n",
            "Validation accuracy: 0.6541095972061157\n",
            "\n",
            "Training, iteration 39\n",
            "Train accuracy: 0.832382\n",
            "Test accuracy: 0.6135844588279724\n",
            "Validation accuracy: 0.642123281955719\n",
            "\n",
            "Training, iteration 40\n",
            "Train accuracy: 0.8359018\n",
            "Test accuracy: 0.6135844588279724\n",
            "Validation accuracy: 0.6526826620101929\n",
            "\n",
            "Training, iteration 41\n",
            "Train accuracy: 0.82848173\n",
            "Test accuracy: 0.640125572681427\n",
            "Validation accuracy: 0.6495434045791626\n",
            "\n",
            "Training, iteration 42\n",
            "Train accuracy: 0.8228691\n",
            "Test accuracy: 0.5853310227394104\n",
            "Validation accuracy: 0.6472602486610413\n",
            "\n",
            "Training, iteration 43\n",
            "Train accuracy: 0.8158295\n",
            "Test accuracy: 0.6327054500579834\n",
            "Validation accuracy: 0.6538242101669312\n",
            "\n",
            "Training, iteration 44\n",
            "Train accuracy: 0.84208524\n",
            "Test accuracy: 0.6347032189369202\n",
            "Validation accuracy: 0.6598173379898071\n",
            "\n",
            "Training, iteration 45\n",
            "Train accuracy: 0.8250571\n",
            "Test accuracy: 0.6278538703918457\n",
            "Validation accuracy: 0.6595319509506226\n",
            "\n",
            "Training, iteration 46\n",
            "Train accuracy: 0.8241058\n",
            "Test accuracy: 0.6204338073730469\n",
            "Validation accuracy: 0.6432648301124573\n",
            "\n",
            "Training, iteration 47\n",
            "Train accuracy: 0.8297184\n",
            "Test accuracy: 0.6298515796661377\n",
            "Validation accuracy: 0.6555365324020386\n",
            "\n",
            "Training, iteration 48\n",
            "Train accuracy: 0.84703195\n",
            "Test accuracy: 0.6152967810630798\n",
            "Validation accuracy: 0.6538242101669312\n",
            "\n",
            "Training, iteration 49\n",
            "Train accuracy: 0.8254376\n",
            "Test accuracy: 0.6489726305007935\n",
            "Validation accuracy: 0.6521118879318237\n",
            "\n",
            "Training, iteration 50\n",
            "Train accuracy: 0.8432268\n",
            "Test accuracy: 0.592751145362854\n",
            "Validation accuracy: 0.663241982460022\n",
            "\n",
            "Training, iteration 51\n",
            "Train accuracy: 0.831621\n",
            "Test accuracy: 0.6332762837409973\n",
            "Validation accuracy: 0.6438356041908264\n",
            "\n",
            "Training, iteration 52\n",
            "Train accuracy: 0.8410388\n",
            "Test accuracy: 0.6067351698875427\n",
            "Validation accuracy: 0.657248854637146\n",
            "\n",
            "Training, iteration 53\n",
            "Train accuracy: 0.83723366\n",
            "Test accuracy: 0.6212899684906006\n",
            "Validation accuracy: 0.659246563911438\n",
            "\n",
            "Training, iteration 54\n",
            "Train accuracy: 0.8267694\n",
            "Test accuracy: 0.6061643958091736\n",
            "Validation accuracy: 0.6406963467597961\n",
            "\n",
            "Training, iteration 55\n",
            "Train accuracy: 0.8362824\n",
            "Test accuracy: 0.6227169036865234\n",
            "Validation accuracy: 0.6543949842453003\n",
            "\n",
            "Training, iteration 56\n",
            "Train accuracy: 0.83247715\n",
            "Test accuracy: 0.6221461296081543\n",
            "Validation accuracy: 0.6349886059761047\n",
            "\n",
            "Training, iteration 57\n",
            "Train accuracy: 0.8396119\n",
            "Test accuracy: 0.6121575236320496\n",
            "Validation accuracy: 0.663241982460022\n",
            "\n",
            "Training, iteration 58\n",
            "Train accuracy: 0.83380896\n",
            "Test accuracy: 0.6050228476524353\n",
            "Validation accuracy: 0.6464040875434875\n",
            "\n",
            "Training, iteration 59\n",
            "Train accuracy: 0.83571154\n",
            "Test accuracy: 0.605879008769989\n",
            "Validation accuracy: 0.6472602486610413\n",
            "\n",
            "Training, iteration 60\n",
            "Train accuracy: 0.8303843\n",
            "Test accuracy: 0.5730593800544739\n",
            "Validation accuracy: 0.638127863407135\n",
            "\n",
            "Training, iteration 61\n",
            "Train accuracy: 0.81697106\n",
            "Test accuracy: 0.5918949842453003\n",
            "Validation accuracy: 0.628995418548584\n",
            "\n",
            "Training, iteration 62\n",
            "Train accuracy: 0.8306697\n",
            "Test accuracy: 0.6170091032981873\n",
            "Validation accuracy: 0.649258017539978\n",
            "\n",
            "Training, iteration 63\n",
            "Train accuracy: 0.8320015\n",
            "Test accuracy: 0.5916095972061157\n",
            "Validation accuracy: 0.6458333134651184\n",
            "\n",
            "Training, iteration 64\n",
            "Train accuracy: 0.8417047\n",
            "Test accuracy: 0.6267123222351074\n",
            "Validation accuracy: 0.6623858213424683\n",
            "\n",
            "Training, iteration 65\n",
            "Train accuracy: 0.84141934\n",
            "Test accuracy: 0.6372717022895813\n",
            "Validation accuracy: 0.6555365324020386\n",
            "\n",
            "Training, iteration 66\n",
            "Train accuracy: 0.8337138\n",
            "Test accuracy: 0.6358447670936584\n",
            "Validation accuracy: 0.6581050157546997\n",
            "\n",
            "Training, iteration 67\n",
            "Train accuracy: 0.82724506\n",
            "Test accuracy: 0.630993127822876\n",
            "Validation accuracy: 0.6529680490493774\n",
            "\n",
            "Training, iteration 68\n",
            "Train accuracy: 0.81497335\n",
            "Test accuracy: 0.6478310227394104\n",
            "Validation accuracy: 0.6535388231277466\n",
            "\n",
            "Training, iteration 69\n",
            "Train accuracy: 0.8223935\n",
            "Test accuracy: 0.613869845867157\n",
            "Validation accuracy: 0.6464040875434875\n",
            "\n",
            "Training, iteration 70\n",
            "Train accuracy: 0.8099315\n",
            "Test accuracy: 0.5973173379898071\n",
            "Validation accuracy: 0.6304223537445068\n",
            "\n",
            "Training, iteration 71\n",
            "Train accuracy: 0.83152586\n",
            "Test accuracy: 0.6155821681022644\n",
            "Validation accuracy: 0.6581050157546997\n",
            "\n",
            "Training, iteration 72\n",
            "Train accuracy: 0.8387557\n",
            "Test accuracy: 0.6227169036865234\n",
            "Validation accuracy: 0.6515411138534546\n",
            "\n",
            "Training, iteration 73\n",
            "Train accuracy: 0.8421804\n",
            "Test accuracy: 0.6386986374855042\n",
            "Validation accuracy: 0.659246563911438\n",
            "\n",
            "Training, iteration 74\n",
            "Train accuracy: 0.8348554\n",
            "Test accuracy: 0.586758017539978\n",
            "Validation accuracy: 0.655251145362854\n",
            "\n",
            "Training, iteration 75\n",
            "Train accuracy: 0.838946\n",
            "Test accuracy: 0.636130154132843\n",
            "Validation accuracy: 0.6606734991073608\n",
            "\n",
            "Training, iteration 76\n",
            "Train accuracy: 0.8171613\n",
            "Test accuracy: 0.5961757898330688\n",
            "Validation accuracy: 0.6338470578193665\n",
            "\n",
            "Training, iteration 77\n",
            "Train accuracy: 0.7939498\n",
            "Test accuracy: 0.6429794430732727\n",
            "Validation accuracy: 0.6484017968177795\n",
            "\n",
            "Training, iteration 78\n",
            "Train accuracy: 0.81202435\n",
            "Test accuracy: 0.615867555141449\n",
            "Validation accuracy: 0.6312785148620605\n",
            "\n",
            "Training, iteration 79\n",
            "Train accuracy: 0.83885086\n",
            "Test accuracy: 0.5973173379898071\n",
            "Validation accuracy: 0.6503995656967163\n",
            "\n",
            "Training, iteration 80\n",
            "Train accuracy: 0.81430745\n",
            "Test accuracy: 0.5938926935195923\n",
            "Validation accuracy: 0.6344178318977356\n",
            "\n",
            "Training, iteration 81\n",
            "Train accuracy: 0.84370244\n",
            "Test accuracy: 0.6247146129608154\n",
            "Validation accuracy: 0.6581050157546997\n",
            "\n",
            "Training, iteration 82\n",
            "Train accuracy: 0.8339041\n",
            "Test accuracy: 0.625\n",
            "Validation accuracy: 0.648116409778595\n",
            "\n",
            "Training, iteration 83\n",
            "Train accuracy: 0.832382\n",
            "Test accuracy: 0.5956050157546997\n",
            "Validation accuracy: 0.6478310227394104\n",
            "\n",
            "Training, iteration 84\n",
            "Train accuracy: 0.8376142\n",
            "Test accuracy: 0.6132990717887878\n",
            "Validation accuracy: 0.65125572681427\n",
            "\n",
            "Training, iteration 85\n",
            "Train accuracy: 0.81069255\n",
            "Test accuracy: 0.6144406199455261\n",
            "Validation accuracy: 0.6475456357002258\n",
            "\n",
            "Training, iteration 86\n",
            "Train accuracy: 0.8416096\n",
            "Test accuracy: 0.6167237162590027\n",
            "Validation accuracy: 0.6578196287155151\n",
            "\n",
            "Training, iteration 87\n",
            "Train accuracy: 0.8296233\n",
            "Test accuracy: 0.6064497828483582\n",
            "Validation accuracy: 0.6543949842453003\n",
            "\n",
            "Training, iteration 88\n",
            "Train accuracy: 0.82990867\n",
            "Test accuracy: 0.623002290725708\n",
            "Validation accuracy: 0.6578196287155151\n",
            "\n",
            "Training, iteration 89\n",
            "Train accuracy: 0.8222032\n",
            "Test accuracy: 0.6444063782691956\n",
            "Validation accuracy: 0.6646689772605896\n",
            "\n",
            "Training, iteration 90\n",
            "Train accuracy: 0.8471271\n",
            "Test accuracy: 0.6235730648040771\n",
            "Validation accuracy: 0.66124427318573\n",
            "\n",
            "Training, iteration 91\n",
            "Train accuracy: 0.7824391\n",
            "Test accuracy: 0.6184360980987549\n",
            "Validation accuracy: 0.6349886059761047\n",
            "\n",
            "Training, iteration 92\n",
            "Train accuracy: 0.8369483\n",
            "Test accuracy: 0.6324200630187988\n",
            "Validation accuracy: 0.6578196287155151\n",
            "\n",
            "Training, iteration 93\n",
            "Train accuracy: 0.83685315\n",
            "Test accuracy: 0.6295661926269531\n",
            "Validation accuracy: 0.6635273694992065\n",
            "\n",
            "Training, iteration 94\n",
            "Train accuracy: 0.8148782\n",
            "Test accuracy: 0.6024543642997742\n",
            "Validation accuracy: 0.6426940560340881\n",
            "\n",
            "Training, iteration 95\n",
            "Train accuracy: 0.8092656\n",
            "Test accuracy: 0.6093036532402039\n",
            "Validation accuracy: 0.6501141786575317\n",
            "\n",
            "Training, iteration 96\n",
            "Train accuracy: 0.8464612\n",
            "Test accuracy: 0.6298515796661377\n",
            "Validation accuracy: 0.6581050157546997\n",
            "\n",
            "Training, iteration 97\n",
            "Train accuracy: 0.83314306\n",
            "Test accuracy: 0.5953196287155151\n",
            "Validation accuracy: 0.626997709274292\n",
            "\n",
            "Training, iteration 98\n",
            "Train accuracy: 0.8282915\n",
            "Test accuracy: 0.6364155411720276\n",
            "Validation accuracy: 0.6618150472640991\n",
            "\n",
            "Training, iteration 99\n",
            "Train accuracy: 0.8423706\n",
            "Test accuracy: 0.6324200630187988\n",
            "Validation accuracy: 0.664383590221405\n"
          ],
          "name": "stdout"
        }
      ]
    },
    {
      "cell_type": "code",
      "metadata": {
        "id": "PgNAaKbGM3rO",
        "colab": {
          "base_uri": "https://localhost:8080/",
          "height": 69
        },
        "outputId": "bfb115d6-bb77-4dff-9c6f-f133d85aeb92"
      },
      "source": [
        "print('train accuracy: '+ str(np.mean(train_acc)) + '+-' + str(np.std(train_acc)))\n",
        "print('validation accuracy: '+ str(np.mean(valid_acc)) + '+-' + str(np.std(valid_acc)))\n",
        "print('test accuracy: '+ str(np.mean(test_acc)) + '+-' + str(np.std(test_acc)))"
      ],
      "execution_count": null,
      "outputs": [
        {
          "output_type": "stream",
          "text": [
            "train accuracy: 0.82975554+-0.013520471\n",
            "validation accuracy: 0.6516952043771744+-0.009439525419916224\n",
            "test accuracy: 0.6196147239208222+-0.01583102479754839\n"
          ],
          "name": "stdout"
        }
      ]
    },
    {
      "cell_type": "code",
      "metadata": {
        "id": "QiHNrI1BM5ge",
        "colab": {
          "base_uri": "https://localhost:8080/",
          "height": 614
        },
        "outputId": "51994779-a77b-4ecf-b69d-2ae5fb8e46d6"
      },
      "source": [
        "pp=''\n",
        "evaluation(prediction, out_test, title=None, save=False, path=pp,limit=[0,3000])"
      ],
      "execution_count": null,
      "outputs": [
        {
          "output_type": "display_data",
          "data": {
            "image/png": "[encoded data removed]",
            "text/plain": [
              "<Figure size 1440x720 with 1 Axes>"
            ]
          },
          "metadata": {
            "tags": [],
            "needs_background": "light"
          }
        }
      ]
    },
    {
      "cell_type": "code",
      "metadata": {
        "id": "6bqo90AkxPqt"
      },
      "source": [
        "ind=np.random.randint(0,3504,60)\n",
        "a=prediction[ind]\n",
        "b=out_test[ind]"
      ],
      "execution_count": null,
      "outputs": []
    },
    {
      "cell_type": "code",
      "metadata": {
        "id": "5RchKqZXxy-U",
        "colab": {
          "base_uri": "https://localhost:8080/",
          "height": 614
        },
        "outputId": "f2219db3-71b5-4753-dd2c-410bf93b8f6d"
      },
      "source": [
        "pp='/content/drive/Shared drives/Nikolina/Results/Report figures/RMSinter_s_random.png'\n",
        "evaluation(a, b, title=None, save=True, path=pp,limit=[0,60])"
      ],
      "execution_count": null,
      "outputs": [
        {
          "output_type": "display_data",
          "data": {
            "image/png": "[encoded data removed]",
            "text/plain": [
              "<Figure size 1440x720 with 1 Axes>"
            ]
          },
          "metadata": {
            "tags": [],
            "needs_background": "light"
          }
        }
      ]
    },
    {
      "cell_type": "code",
      "metadata": {
        "id": "2teDZiJcwY9T"
      },
      "source": [
        ""
      ],
      "execution_count": null,
      "outputs": []
    }
  ]
}